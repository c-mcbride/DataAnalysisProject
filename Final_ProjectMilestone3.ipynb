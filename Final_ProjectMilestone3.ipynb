{
  "nbformat": 4,
  "nbformat_minor": 0,
  "metadata": {
    "colab": {
      "provenance": [],
      "collapsed_sections": [
        "LXxy3pe8TU8e",
        "iWnyBNukwKLK",
        "DKeG1XSnwkYq"
      ],
      "mount_file_id": "1Ba-a_32E6kehGjZw95wexisibPY9Hftl",
      "authorship_tag": "ABX9TyN2PaWzbnOF/+wTIFFvtP+e",
      "include_colab_link": true
    },
    "kernelspec": {
      "name": "python3",
      "display_name": "Python 3"
    },
    "language_info": {
      "name": "python"
    }
  },
  "cells": [
    {
      "cell_type": "markdown",
      "metadata": {
        "id": "view-in-github",
        "colab_type": "text"
      },
      "source": [
        "<a href=\"https://colab.research.google.com/github/c-mcbride/DataAnalysisProject/blob/main/Final_ProjectMilestone3.ipynb\" target=\"_parent\"><img src=\"https://colab.research.google.com/assets/colab-badge.svg\" alt=\"Open In Colab\"/></a>"
      ]
    },
    {
      "cell_type": "code",
      "execution_count": null,
      "metadata": {
        "id": "QL4-FpCWafi9"
      },
      "outputs": [],
      "source": [
        "import pandas as pd\n",
        "import matplotlib.pyplot as plt\n",
        "import datetime as dt\n",
        "import matplotlib.dates\n",
        "from matplotlib.dates import date2num\n",
        "import seaborn as sns"
      ]
    },
    {
      "cell_type": "markdown",
      "source": [
        "# Importing and Analyzing FRED Unemployment Data"
      ],
      "metadata": {
        "id": "QEiKVZ49a0DU"
      }
    },
    {
      "cell_type": "code",
      "source": [
        "df = pd.read_csv(r\"/content/drive/MyDrive/Data Analysis/UNRATE.csv\")\n",
        "print(df)"
      ],
      "metadata": {
        "id": "QDQchat7bZgb",
        "colab": {
          "base_uri": "https://localhost:8080/"
        },
        "outputId": "3e26ea11-8954-4e23-f1e3-141ff03f5be7"
      },
      "execution_count": null,
      "outputs": [
        {
          "output_type": "stream",
          "name": "stdout",
          "text": [
            "         DATE  UNRATE\n",
            "0    1/1/1948     3.4\n",
            "1    2/1/1948     3.8\n",
            "2    3/1/1948     4.0\n",
            "3    4/1/1948     3.9\n",
            "4    5/1/1948     3.5\n",
            "..        ...     ...\n",
            "892  5/1/2022     3.6\n",
            "893  6/1/2022     3.6\n",
            "894  7/1/2022     3.5\n",
            "895  8/1/2022     3.7\n",
            "896  9/1/2022     3.5\n",
            "\n",
            "[897 rows x 2 columns]\n"
          ]
        }
      ]
    },
    {
      "cell_type": "markdown",
      "source": [
        "Checking the types of the variables"
      ],
      "metadata": {
        "id": "c1YZmkcCbwQW"
      }
    },
    {
      "cell_type": "code",
      "source": [
        "df.dtypes"
      ],
      "metadata": {
        "id": "mK1jdOwPbyK6",
        "colab": {
          "base_uri": "https://localhost:8080/"
        },
        "outputId": "ac0335c3-82c5-49ca-e3b2-a5eb1ab26891"
      },
      "execution_count": null,
      "outputs": [
        {
          "output_type": "execute_result",
          "data": {
            "text/plain": [
              "DATE       object\n",
              "UNRATE    float64\n",
              "dtype: object"
            ]
          },
          "metadata": {},
          "execution_count": 3
        }
      ]
    },
    {
      "cell_type": "markdown",
      "source": [
        "Changing the dates to date objects"
      ],
      "metadata": {
        "id": "g8y9PBaBb0v8"
      }
    },
    {
      "cell_type": "code",
      "source": [
        "df['Date'] = pd.to_datetime(df['DATE'])\n",
        "del df['DATE']\n",
        "df.dtypes"
      ],
      "metadata": {
        "id": "Z54Ur_qMb2xh",
        "colab": {
          "base_uri": "https://localhost:8080/"
        },
        "outputId": "6e3cbe35-c17d-4d2e-faf5-7cb7600cc15d"
      },
      "execution_count": null,
      "outputs": [
        {
          "output_type": "execute_result",
          "data": {
            "text/plain": [
              "UNRATE           float64\n",
              "Date      datetime64[ns]\n",
              "dtype: object"
            ]
          },
          "metadata": {},
          "execution_count": 4
        }
      ]
    },
    {
      "cell_type": "markdown",
      "source": [
        "Changing the index of the data frame to include newly created date time objects"
      ],
      "metadata": {
        "id": "PPAKKPG6cEE8"
      }
    },
    {
      "cell_type": "code",
      "source": [
        "indexList = list(df['Date'])\n",
        "del df['Date']\n",
        "df.index = indexList\n",
        "print(df)"
      ],
      "metadata": {
        "id": "rPZWsajbcF3j",
        "colab": {
          "base_uri": "https://localhost:8080/"
        },
        "outputId": "225962b8-1d9f-444f-ae11-cc53e8f9d4d6"
      },
      "execution_count": null,
      "outputs": [
        {
          "output_type": "stream",
          "name": "stdout",
          "text": [
            "            UNRATE\n",
            "1948-01-01     3.4\n",
            "1948-02-01     3.8\n",
            "1948-03-01     4.0\n",
            "1948-04-01     3.9\n",
            "1948-05-01     3.5\n",
            "...            ...\n",
            "2022-05-01     3.6\n",
            "2022-06-01     3.6\n",
            "2022-07-01     3.5\n",
            "2022-08-01     3.7\n",
            "2022-09-01     3.5\n",
            "\n",
            "[897 rows x 1 columns]\n"
          ]
        }
      ]
    },
    {
      "cell_type": "markdown",
      "source": [
        "Create Time Series Graph from Data"
      ],
      "metadata": {
        "id": "a_GCAHdIcInH"
      }
    },
    {
      "cell_type": "code",
      "source": [
        "graphTest = df\n",
        "graphTest.plot()"
      ],
      "metadata": {
        "id": "igk8JJIWcKlp",
        "colab": {
          "base_uri": "https://localhost:8080/",
          "height": 282
        },
        "outputId": "9ad40587-604c-452b-a121-2eeb82a49252"
      },
      "execution_count": null,
      "outputs": [
        {
          "output_type": "execute_result",
          "data": {
            "text/plain": [
              "<matplotlib.axes._subplots.AxesSubplot at 0x7f6b35b2ad50>"
            ]
          },
          "metadata": {},
          "execution_count": 6
        },
        {
          "output_type": "display_data",
          "data": {
            "text/plain": [
              "<Figure size 432x288 with 1 Axes>"
            ],
            "image/png": "[encoded data removed]"
          },
          "metadata": {
            "needs_background": "light"
          }
        }
      ]
    },
    {
      "cell_type": "markdown",
      "source": [
        "Subsetting df for specific recessions"
      ],
      "metadata": {
        "id": "H6unnUJKcNY3"
      }
    },
    {
      "cell_type": "code",
      "source": [
        "recession1953 =  df['1953-07-01':'1954-05-01']\n",
        "averageUnemployment1953 = recession1953['UNRATE'].mean()\n",
        "print(averageUnemployment1953)"
      ],
      "metadata": {
        "id": "tAPSZTojcO5-",
        "colab": {
          "base_uri": "https://localhost:8080/"
        },
        "outputId": "845c4b8c-abf2-43ea-f809-daa013acf0a0"
      },
      "execution_count": null,
      "outputs": [
        {
          "output_type": "stream",
          "name": "stdout",
          "text": [
            "4.263636363636364\n"
          ]
        }
      ]
    },
    {
      "cell_type": "markdown",
      "source": [
        "Recession of 1960 Subset"
      ],
      "metadata": {
        "id": "C-THrr6dcUVh"
      }
    },
    {
      "cell_type": "code",
      "source": [
        "recession1960 = df[\"1960-04-01\" : '1961-02-01']\n",
        "averageUnemployment1960 = recession1960['UNRATE'].mean()\n",
        "print(averageUnemployment1960)"
      ],
      "metadata": {
        "id": "RJ0---OzcU0E",
        "colab": {
          "base_uri": "https://localhost:8080/"
        },
        "outputId": "99bf1d98-5953-4ab3-aa22-e20672b73914"
      },
      "execution_count": null,
      "outputs": [
        {
          "output_type": "stream",
          "name": "stdout",
          "text": [
            "5.872727272727274\n"
          ]
        }
      ]
    },
    {
      "cell_type": "markdown",
      "source": [
        "Recession of 1981"
      ],
      "metadata": {
        "id": "ixiYh4omcX5i"
      }
    },
    {
      "cell_type": "code",
      "source": [
        "recession1981 = df[\"1981-07-01\" : '1982-11-01']\n",
        "averageUnemployment1981 = recession1981['UNRATE'].mean()\n",
        "print(averageUnemployment1981)"
      ],
      "metadata": {
        "id": "Da-ymMHMcYR4",
        "colab": {
          "base_uri": "https://localhost:8080/"
        },
        "outputId": "3d065477-4cc5-4573-8a7c-a141fc60e2bb"
      },
      "execution_count": null,
      "outputs": [
        {
          "output_type": "stream",
          "name": "stdout",
          "text": [
            "8.976470588235296\n"
          ]
        }
      ]
    },
    {
      "cell_type": "markdown",
      "source": [
        "Early 1990s Recession"
      ],
      "metadata": {
        "id": "I_Omda4vcZoF"
      }
    },
    {
      "cell_type": "code",
      "source": [
        "recession1990 = df[\"1990-07-01\": \"1991-03-01\"]\n",
        "averageUnemployment1990 = recession1990['UNRATE'].mean()\n",
        "print(averageUnemployment1990)"
      ],
      "metadata": {
        "id": "PG9vl3iUcbPu",
        "colab": {
          "base_uri": "https://localhost:8080/"
        },
        "outputId": "37d060a7-f10f-4868-96de-0b7299cd53e4"
      },
      "execution_count": null,
      "outputs": [
        {
          "output_type": "stream",
          "name": "stdout",
          "text": [
            "6.144444444444444\n"
          ]
        }
      ]
    },
    {
      "cell_type": "markdown",
      "source": [
        "Great Recession"
      ],
      "metadata": {
        "id": "PgsjE3USccn3"
      }
    },
    {
      "cell_type": "code",
      "source": [
        "recession2007 = df[\"2007-12-01\":\"2009-10-01\"]\n",
        "averageUnempoyment2007 = recession2007['UNRATE'].mean()\n",
        "print(averageUnempoyment2007)"
      ],
      "metadata": {
        "id": "5W20-0zecd35",
        "colab": {
          "base_uri": "https://localhost:8080/"
        },
        "outputId": "170deb29-bbaa-45df-f2bf-c69349e711cd"
      },
      "execution_count": null,
      "outputs": [
        {
          "output_type": "stream",
          "name": "stdout",
          "text": [
            "7.22608695652174\n"
          ]
        }
      ]
    },
    {
      "cell_type": "code",
      "source": [
        "print(recession2007)"
      ],
      "metadata": {
        "id": "Td2FhfXNchWf",
        "colab": {
          "base_uri": "https://localhost:8080/"
        },
        "outputId": "419c0f53-9743-4a46-fdbd-6b9c3685aa79"
      },
      "execution_count": null,
      "outputs": [
        {
          "output_type": "stream",
          "name": "stdout",
          "text": [
            "            UNRATE\n",
            "2007-12-01     5.0\n",
            "2008-01-01     5.0\n",
            "2008-02-01     4.9\n",
            "2008-03-01     5.1\n",
            "2008-04-01     5.0\n",
            "2008-05-01     5.4\n",
            "2008-06-01     5.6\n",
            "2008-07-01     5.8\n",
            "2008-08-01     6.1\n",
            "2008-09-01     6.1\n",
            "2008-10-01     6.5\n",
            "2008-11-01     6.8\n",
            "2008-12-01     7.3\n",
            "2009-01-01     7.8\n",
            "2009-02-01     8.3\n",
            "2009-03-01     8.7\n",
            "2009-04-01     9.0\n",
            "2009-05-01     9.4\n",
            "2009-06-01     9.5\n",
            "2009-07-01     9.5\n",
            "2009-08-01     9.6\n",
            "2009-09-01     9.8\n",
            "2009-10-01    10.0\n"
          ]
        }
      ]
    },
    {
      "cell_type": "markdown",
      "source": [
        "Current Unemployment Data"
      ],
      "metadata": {
        "id": "zvW2Fv2GckJr"
      }
    },
    {
      "cell_type": "code",
      "source": [
        "currentUnemployment = df['2022-01-01' : '2022-09-01']\n",
        "averageUnemployment2022 = currentUnemployment['UNRATE'].mean()\n",
        "print(averageUnemployment2022)"
      ],
      "metadata": {
        "id": "Q0GowFsJcmRW",
        "colab": {
          "base_uri": "https://localhost:8080/"
        },
        "outputId": "47d24f7b-6f4d-41d1-affa-708c6f184177"
      },
      "execution_count": null,
      "outputs": [
        {
          "output_type": "stream",
          "name": "stdout",
          "text": [
            "3.6555555555555554\n"
          ]
        }
      ]
    },
    {
      "cell_type": "markdown",
      "source": [
        "Creating a list from recession data"
      ],
      "metadata": {
        "id": "DPgcgwLQcoR8"
      }
    },
    {
      "cell_type": "code",
      "source": [
        "averageUnemploymentList = [averageUnemployment2022, averageUnempoyment2007,averageUnemployment1990,averageUnemployment1981, averageUnemployment1960, averageUnemployment1953 ]\n",
        "averageUnemploymentList.reverse()\n",
        "print(averageUnemploymentList)"
      ],
      "metadata": {
        "id": "8oKRfds9cqmy",
        "colab": {
          "base_uri": "https://localhost:8080/"
        },
        "outputId": "380628c8-fc27-4759-fa8a-68167248abd3"
      },
      "execution_count": null,
      "outputs": [
        {
          "output_type": "stream",
          "name": "stdout",
          "text": [
            "[4.263636363636364, 5.872727272727274, 8.976470588235296, 6.144444444444444, 7.22608695652174, 3.6555555555555554]\n"
          ]
        }
      ]
    },
    {
      "cell_type": "markdown",
      "source": [
        "Creating an average unemployment data frame from past recessions"
      ],
      "metadata": {
        "id": "UQB_iCtscsJ7"
      }
    },
    {
      "cell_type": "code",
      "source": [
        "rowNames = [\"Current 2022\", \"Great Recession 2007\" ,  'Recession 1990', 'Recession 1981', 'Recession 1960','Recession 1953' ]\n",
        "rowNames.reverse()\n",
        "recession_df = pd.DataFrame(averageUnemploymentList)\n",
        "recession_df.index = rowNames\n",
        "recession_df.columns = ['Mean Unemployment']\n",
        "\n",
        "print(recession_df)"
      ],
      "metadata": {
        "id": "8aeS-D4ictnI",
        "colab": {
          "base_uri": "https://localhost:8080/"
        },
        "outputId": "8d62de1f-e1ae-4711-a061-0ecb555dd6a9"
      },
      "execution_count": null,
      "outputs": [
        {
          "output_type": "stream",
          "name": "stdout",
          "text": [
            "                      Mean Unemployment\n",
            "Recession 1953                 4.263636\n",
            "Recession 1960                 5.872727\n",
            "Recession 1981                 8.976471\n",
            "Recession 1990                 6.144444\n",
            "Great Recession 2007           7.226087\n",
            "Current 2022                   3.655556\n"
          ]
        }
      ]
    },
    {
      "cell_type": "markdown",
      "source": [
        "Creating Bar Graph of Unemployment"
      ],
      "metadata": {
        "id": "PNvxRJfAcu9f"
      }
    },
    {
      "cell_type": "code",
      "source": [
        "plt.style.use('ggplot')\n",
        "plt.rcParams[\"figure.figsize\"] = (15,8)\n",
        "recession_df.plot.bar(use_index = True, y = \"Mean Unemployment\", color = [\"#003f5c\", \"#444e86\", \"#955196\", \"#dd5182\", \"#ff6e54\", \"#ffa600\"], legend = False, \n",
        "                  title = 'Mean unployment data from 5 previous recessions compared to 2022' )\n",
        "\n",
        "plt.xticks(rotation = 0, fontsize = 10, fontweight = 'bold')\n",
        "plt.ylabel('Mean Unemployment Percentage for US Population', fontweight = 'bold')\n",
        "plt.yticks(fontsize = 10, fontweight = 'bold')\n",
        "plt.show()"
      ],
      "metadata": {
        "id": "aUDegBp5cxGs",
        "colab": {
          "base_uri": "https://localhost:8080/",
          "height": 500
        },
        "outputId": "8b4977a3-5d17-478a-f08b-f489847d98fa"
      },
      "execution_count": null,
      "outputs": [
        {
          "output_type": "display_data",
          "data": {
            "text/plain": [
              "<Figure size 1080x576 with 1 Axes>"
            ],
            "image/png": "[encoded data removed]"
          },
          "metadata": {}
        }
      ]
    },
    {
      "cell_type": "markdown",
      "source": [
        "# Analyzing Gross Domestic Product "
      ],
      "metadata": {
        "id": "LXxy3pe8TU8e"
      }
    },
    {
      "cell_type": "code",
      "source": [
        "gdpDf= pd.read_csv(r\"/content/drive/MyDrive/Data Analysis/GDP.csv\")\n",
        "print(gdpDf)"
      ],
      "metadata": {
        "id": "NXO3kLhPTcCa",
        "colab": {
          "base_uri": "https://localhost:8080/"
        },
        "outputId": "b446e526-f82a-4304-94f0-8b211590ef84"
      },
      "execution_count": null,
      "outputs": [
        {
          "output_type": "stream",
          "name": "stdout",
          "text": [
            "          DATE        GDP\n",
            "0     1/1/1947    243.164\n",
            "1     4/1/1947    245.968\n",
            "2     7/1/1947    249.585\n",
            "3    10/1/1947    259.745\n",
            "4     1/1/1948    265.742\n",
            "..         ...        ...\n",
            "297   4/1/2021  23046.934\n",
            "298   7/1/2021  23550.420\n",
            "299  10/1/2021  24349.121\n",
            "300   1/1/2022  24740.480\n",
            "301   4/1/2022  25248.476\n",
            "\n",
            "[302 rows x 2 columns]\n"
          ]
        }
      ]
    },
    {
      "cell_type": "markdown",
      "source": [
        "Changing DATE to date objects"
      ],
      "metadata": {
        "id": "6bRkMQ4LUF7o"
      }
    },
    {
      "cell_type": "code",
      "source": [
        "gdpDf['Date'] = pd.to_datetime(gdpDf['DATE'])\n",
        "#del gdpDf['DATE']\n",
        "print(gdpDf)\n"
      ],
      "metadata": {
        "id": "D_uvinj2UJG6",
        "colab": {
          "base_uri": "https://localhost:8080/"
        },
        "outputId": "7f958241-1234-4f8e-ce62-d152a689c440"
      },
      "execution_count": null,
      "outputs": [
        {
          "output_type": "stream",
          "name": "stdout",
          "text": [
            "          DATE        GDP       Date\n",
            "0     1/1/1947    243.164 1947-01-01\n",
            "1     4/1/1947    245.968 1947-04-01\n",
            "2     7/1/1947    249.585 1947-07-01\n",
            "3    10/1/1947    259.745 1947-10-01\n",
            "4     1/1/1948    265.742 1948-01-01\n",
            "..         ...        ...        ...\n",
            "297   4/1/2021  23046.934 2021-04-01\n",
            "298   7/1/2021  23550.420 2021-07-01\n",
            "299  10/1/2021  24349.121 2021-10-01\n",
            "300   1/1/2022  24740.480 2022-01-01\n",
            "301   4/1/2022  25248.476 2022-04-01\n",
            "\n",
            "[302 rows x 3 columns]\n"
          ]
        }
      ]
    },
    {
      "cell_type": "markdown",
      "source": [
        "Create List to Hold Time Interval Labels"
      ],
      "metadata": {
        "id": "PCAwijzlYsCf"
      }
    },
    {
      "cell_type": "code",
      "source": [
        "interval = [0, 92, 184, 274, 365, 457]"
      ],
      "metadata": {
        "id": "DeOj3lYiYu1B"
      },
      "execution_count": null,
      "outputs": []
    },
    {
      "cell_type": "markdown",
      "source": [
        "Changing the index of the data frame to include newly created date objects"
      ],
      "metadata": {
        "id": "9VqsP2BeUop3"
      }
    },
    {
      "cell_type": "code",
      "source": [
        "indexList2 = list(gdpDf['Date'])\n",
        "gdpDf.index = indexList2"
      ],
      "metadata": {
        "id": "tVARVeXizBNB"
      },
      "execution_count": null,
      "outputs": []
    },
    {
      "cell_type": "markdown",
      "source": [
        "Subsetting for Specific Recessions"
      ],
      "metadata": {
        "id": "N_2RnPN6VRFn"
      }
    },
    {
      "cell_type": "code",
      "source": [
        "qRecession1953 = gdpDf['1953-07-01' : '1954-10-01']\n",
        "qRecession1953['Elapsed Time'] = interval\n",
        "print(qRecession1953)\n"
      ],
      "metadata": {
        "id": "-lIOsS6MVTh6",
        "colab": {
          "base_uri": "https://localhost:8080/"
        },
        "outputId": "c17ba12e-117f-4b8e-cfc4-b507ec019ea9"
      },
      "execution_count": null,
      "outputs": [
        {
          "output_type": "stream",
          "name": "stdout",
          "text": [
            "                 DATE      GDP       Date  Elapsed Time\n",
            "1953-07-01   7/1/1953  391.171 1953-07-01             0\n",
            "1953-10-01  10/1/1953  385.970 1953-10-01            92\n",
            "1954-01-01   1/1/1954  385.345 1954-01-01           184\n",
            "1954-04-01   4/1/1954  386.121 1954-04-01           274\n",
            "1954-07-01   7/1/1954  390.996 1954-07-01           365\n",
            "1954-10-01  10/1/1954  399.734 1954-10-01           457\n"
          ]
        },
        {
          "output_type": "stream",
          "name": "stderr",
          "text": [
            "/usr/local/lib/python3.7/dist-packages/ipykernel_launcher.py:2: SettingWithCopyWarning: \n",
            "A value is trying to be set on a copy of a slice from a DataFrame.\n",
            "Try using .loc[row_indexer,col_indexer] = value instead\n",
            "\n",
            "See the caveats in the documentation: https://pandas.pydata.org/pandas-docs/stable/user_guide/indexing.html#returning-a-view-versus-a-copy\n",
            "  \n"
          ]
        }
      ]
    },
    {
      "cell_type": "markdown",
      "source": [
        "Creating Periods based on distance from start of recession"
      ],
      "metadata": {
        "id": "-2iwg0LW5Yi0"
      }
    },
    {
      "cell_type": "code",
      "source": [
        "dates = qRecession1953['Date']\n",
        "dates.to_period('D')\n",
        "dates = dates - dates[0]\n",
        "print(dates)\n",
        "#print(qRecession1953)"
      ],
      "metadata": {
        "id": "rzLs9axt5dmV",
        "colab": {
          "base_uri": "https://localhost:8080/"
        },
        "outputId": "4cbba958-ed8c-46f0-9242-f3ed42ec90eb"
      },
      "execution_count": null,
      "outputs": [
        {
          "output_type": "stream",
          "name": "stdout",
          "text": [
            "1953-07-01     0 days\n",
            "1953-10-01    92 days\n",
            "1954-01-01   184 days\n",
            "1954-04-01   274 days\n",
            "1954-07-01   365 days\n",
            "1954-10-01   457 days\n",
            "Name: Date, dtype: timedelta64[ns]\n"
          ]
        }
      ]
    },
    {
      "cell_type": "markdown",
      "source": [
        "Placing period data into dataframe"
      ],
      "metadata": {
        "id": "Y4MdOqdy7YpJ"
      }
    },
    {
      "cell_type": "code",
      "source": [
        "qRecession1953.loc[:,\"Elapsed\"] = dates\n",
        "print(qRecession1953)"
      ],
      "metadata": {
        "id": "qTt3xcR67cmU",
        "colab": {
          "base_uri": "https://localhost:8080/"
        },
        "outputId": "7d254f00-8d01-4d3a-f05c-ddebe71afdf0"
      },
      "execution_count": null,
      "outputs": [
        {
          "output_type": "stream",
          "name": "stdout",
          "text": [
            "                 DATE      GDP       Date  Elapsed Time  Elapsed\n",
            "1953-07-01   7/1/1953  391.171 1953-07-01             0   0 days\n",
            "1953-10-01  10/1/1953  385.970 1953-10-01            92  92 days\n",
            "1954-01-01   1/1/1954  385.345 1954-01-01           184 184 days\n",
            "1954-04-01   4/1/1954  386.121 1954-04-01           274 274 days\n",
            "1954-07-01   7/1/1954  390.996 1954-07-01           365 365 days\n",
            "1954-10-01  10/1/1954  399.734 1954-10-01           457 457 days\n"
          ]
        },
        {
          "output_type": "stream",
          "name": "stderr",
          "text": [
            "/usr/local/lib/python3.7/dist-packages/pandas/core/indexing.py:1667: SettingWithCopyWarning: \n",
            "A value is trying to be set on a copy of a slice from a DataFrame.\n",
            "Try using .loc[row_indexer,col_indexer] = value instead\n",
            "\n",
            "See the caveats in the documentation: https://pandas.pydata.org/pandas-docs/stable/user_guide/indexing.html#returning-a-view-versus-a-copy\n",
            "  self.obj[key] = value\n"
          ]
        }
      ]
    },
    {
      "cell_type": "markdown",
      "source": [
        "Checking Data type of elapsed days column"
      ],
      "metadata": {
        "id": "3teorkb08JdU"
      }
    },
    {
      "cell_type": "code",
      "source": [
        "qRecession1953['Elapsed'].dtypes"
      ],
      "metadata": {
        "id": "TiP7PexN8NCz",
        "colab": {
          "base_uri": "https://localhost:8080/"
        },
        "outputId": "9fef221c-7aff-4d88-8efb-8b616480944b"
      },
      "execution_count": null,
      "outputs": [
        {
          "output_type": "execute_result",
          "data": {
            "text/plain": [
              "dtype('<m8[ns]')"
            ]
          },
          "metadata": {},
          "execution_count": 26
        }
      ]
    },
    {
      "cell_type": "markdown",
      "source": [
        "Setting the newly created periods as index "
      ],
      "metadata": {
        "id": "rj2bVWidF7ib"
      }
    },
    {
      "cell_type": "code",
      "source": [
        "qRecession1953.index = qRecession1953['Elapsed']\n",
        "print(qRecession1953)"
      ],
      "metadata": {
        "id": "jgXbudFvF_v_",
        "colab": {
          "base_uri": "https://localhost:8080/"
        },
        "outputId": "e5c7f4bf-a170-4614-a68b-3b4515d1cc56"
      },
      "execution_count": null,
      "outputs": [
        {
          "output_type": "stream",
          "name": "stdout",
          "text": [
            "               DATE      GDP       Date  Elapsed Time  Elapsed\n",
            "Elapsed                                                       \n",
            "0 days     7/1/1953  391.171 1953-07-01             0   0 days\n",
            "92 days   10/1/1953  385.970 1953-10-01            92  92 days\n",
            "184 days   1/1/1954  385.345 1954-01-01           184 184 days\n",
            "274 days   4/1/1954  386.121 1954-04-01           274 274 days\n",
            "365 days   7/1/1954  390.996 1954-07-01           365 365 days\n",
            "457 days  10/1/1954  399.734 1954-10-01           457 457 days\n"
          ]
        }
      ]
    },
    {
      "cell_type": "markdown",
      "source": [
        "Adding a Recession Column to Describe the specific recession"
      ],
      "metadata": {
        "id": "AVgBRJEiYu8B"
      }
    },
    {
      "cell_type": "code",
      "source": [
        "qRecession1953.loc[:,\"Recession\"] = \"Recession 1953\"\n",
        "print(qRecession1953)"
      ],
      "metadata": {
        "id": "HVcAnBVwY0R9",
        "colab": {
          "base_uri": "https://localhost:8080/"
        },
        "outputId": "a98ffc4e-fc71-4b22-ed81-9afd7896e5e8"
      },
      "execution_count": null,
      "outputs": [
        {
          "output_type": "stream",
          "name": "stdout",
          "text": [
            "               DATE      GDP       Date  Elapsed Time  Elapsed       Recession\n",
            "Elapsed                                                                       \n",
            "0 days     7/1/1953  391.171 1953-07-01             0   0 days  Recession 1953\n",
            "92 days   10/1/1953  385.970 1953-10-01            92  92 days  Recession 1953\n",
            "184 days   1/1/1954  385.345 1954-01-01           184 184 days  Recession 1953\n",
            "274 days   4/1/1954  386.121 1954-04-01           274 274 days  Recession 1953\n",
            "365 days   7/1/1954  390.996 1954-07-01           365 365 days  Recession 1953\n",
            "457 days  10/1/1954  399.734 1954-10-01           457 457 days  Recession 1953\n"
          ]
        },
        {
          "output_type": "stream",
          "name": "stderr",
          "text": [
            "/usr/local/lib/python3.7/dist-packages/pandas/core/indexing.py:1667: SettingWithCopyWarning: \n",
            "A value is trying to be set on a copy of a slice from a DataFrame.\n",
            "Try using .loc[row_indexer,col_indexer] = value instead\n",
            "\n",
            "See the caveats in the documentation: https://pandas.pydata.org/pandas-docs/stable/user_guide/indexing.html#returning-a-view-versus-a-copy\n",
            "  self.obj[key] = value\n"
          ]
        }
      ]
    },
    {
      "cell_type": "markdown",
      "source": [
        "Creating a percent change from baseline"
      ],
      "metadata": {
        "id": "VB_5YMwmAxD1"
      }
    },
    {
      "cell_type": "code",
      "source": [
        "start = 391.171\n",
        "\n",
        "qRecession1953['start'] = start\n",
        "qRecession1953['Change from baseline'] = 100 * (qRecession1953.GDP/qRecession1953.start-1)\n",
        "print(qRecession1953)"
      ],
      "metadata": {
        "id": "QZ6nvdaQA2h8",
        "colab": {
          "base_uri": "https://localhost:8080/"
        },
        "outputId": "9301ab08-ef83-4b75-db96-01d934c5b3f2"
      },
      "execution_count": null,
      "outputs": [
        {
          "output_type": "stream",
          "name": "stdout",
          "text": [
            "               DATE      GDP       Date  Elapsed Time  Elapsed  \\\n",
            "Elapsed                                                          \n",
            "0 days     7/1/1953  391.171 1953-07-01             0   0 days   \n",
            "92 days   10/1/1953  385.970 1953-10-01            92  92 days   \n",
            "184 days   1/1/1954  385.345 1954-01-01           184 184 days   \n",
            "274 days   4/1/1954  386.121 1954-04-01           274 274 days   \n",
            "365 days   7/1/1954  390.996 1954-07-01           365 365 days   \n",
            "457 days  10/1/1954  399.734 1954-10-01           457 457 days   \n",
            "\n",
            "               Recession    start  Change from baseline  \n",
            "Elapsed                                                  \n",
            "0 days    Recession 1953  391.171              0.000000  \n",
            "92 days   Recession 1953  391.171             -1.329598  \n",
            "184 days  Recession 1953  391.171             -1.489374  \n",
            "274 days  Recession 1953  391.171             -1.290995  \n",
            "365 days  Recession 1953  391.171             -0.044737  \n",
            "457 days  Recession 1953  391.171              2.189068  \n"
          ]
        },
        {
          "output_type": "stream",
          "name": "stderr",
          "text": [
            "/usr/local/lib/python3.7/dist-packages/ipykernel_launcher.py:3: SettingWithCopyWarning: \n",
            "A value is trying to be set on a copy of a slice from a DataFrame.\n",
            "Try using .loc[row_indexer,col_indexer] = value instead\n",
            "\n",
            "See the caveats in the documentation: https://pandas.pydata.org/pandas-docs/stable/user_guide/indexing.html#returning-a-view-versus-a-copy\n",
            "  This is separate from the ipykernel package so we can avoid doing imports until\n",
            "/usr/local/lib/python3.7/dist-packages/ipykernel_launcher.py:4: SettingWithCopyWarning: \n",
            "A value is trying to be set on a copy of a slice from a DataFrame.\n",
            "Try using .loc[row_indexer,col_indexer] = value instead\n",
            "\n",
            "See the caveats in the documentation: https://pandas.pydata.org/pandas-docs/stable/user_guide/indexing.html#returning-a-view-versus-a-copy\n",
            "  after removing the cwd from sys.path.\n"
          ]
        }
      ]
    },
    {
      "cell_type": "markdown",
      "source": [
        "Subsetting Data Frame to contain the change from baseline indexed by quarter"
      ],
      "metadata": {
        "id": "trmOV0uyoIvb"
      }
    },
    {
      "cell_type": "code",
      "source": [
        "Recession1953 = qRecession1953['Change from baseline']\n",
        "Recession1953['Elapsed Time'] = interval\n",
        "print(Recession1953)"
      ],
      "metadata": {
        "id": "Ot8XlM9B6JgZ",
        "colab": {
          "base_uri": "https://localhost:8080/"
        },
        "outputId": "30046668-891a-442e-e4ea-ec5d44fb2ce7"
      },
      "execution_count": null,
      "outputs": [
        {
          "output_type": "stream",
          "name": "stdout",
          "text": [
            "Elapsed\n",
            "0 days 00:00:00                              0.0\n",
            "92 days 00:00:00                       -1.329598\n",
            "184 days 00:00:00                      -1.489374\n",
            "274 days 00:00:00                      -1.290995\n",
            "365 days 00:00:00                      -0.044737\n",
            "457 days 00:00:00                       2.189068\n",
            "Elapsed Time         [0, 92, 184, 274, 365, 457]\n",
            "Name: Change from baseline, dtype: object\n"
          ]
        },
        {
          "output_type": "stream",
          "name": "stderr",
          "text": [
            "/usr/local/lib/python3.7/dist-packages/ipykernel_launcher.py:2: SettingWithCopyWarning: \n",
            "A value is trying to be set on a copy of a slice from a DataFrame\n",
            "\n",
            "See the caveats in the documentation: https://pandas.pydata.org/pandas-docs/stable/user_guide/indexing.html#returning-a-view-versus-a-copy\n",
            "  \n",
            "/usr/local/lib/python3.7/dist-packages/pandas/core/indexing.py:1724: SettingWithCopyWarning: \n",
            "A value is trying to be set on a copy of a slice from a DataFrame\n",
            "\n",
            "See the caveats in the documentation: https://pandas.pydata.org/pandas-docs/stable/user_guide/indexing.html#returning-a-view-versus-a-copy\n",
            "  self._setitem_with_indexer_missing(indexer, value)\n"
          ]
        }
      ]
    },
    {
      "cell_type": "markdown",
      "source": [
        "Subsetting for 1960 Recession"
      ],
      "metadata": {
        "id": "IwwOJt4HZyVZ"
      }
    },
    {
      "cell_type": "code",
      "source": [
        "qRecession1960 = gdpDf['1960-04-01' : '1961-07-01']\n",
        "qRecession1960['Elapsed Time'] = interval\n",
        "print(qRecession1960)"
      ],
      "metadata": {
        "id": "VoNczcDpZ105",
        "colab": {
          "base_uri": "https://localhost:8080/"
        },
        "outputId": "85887611-cd9e-41bd-f464-8ba07c472840"
      },
      "execution_count": null,
      "outputs": [
        {
          "output_type": "stream",
          "name": "stdout",
          "text": [
            "                 DATE      GDP       Date  Elapsed Time\n",
            "1960-04-01   4/1/1960  541.080 1960-04-01             0\n",
            "1960-07-01   7/1/1960  545.604 1960-07-01            92\n",
            "1960-10-01  10/1/1960  540.197 1960-10-01           184\n",
            "1961-01-01   1/1/1961  545.018 1961-01-01           274\n",
            "1961-04-01   4/1/1961  555.545 1961-04-01           365\n",
            "1961-07-01   7/1/1961  567.664 1961-07-01           457\n"
          ]
        },
        {
          "output_type": "stream",
          "name": "stderr",
          "text": [
            "/usr/local/lib/python3.7/dist-packages/ipykernel_launcher.py:2: SettingWithCopyWarning: \n",
            "A value is trying to be set on a copy of a slice from a DataFrame.\n",
            "Try using .loc[row_indexer,col_indexer] = value instead\n",
            "\n",
            "See the caveats in the documentation: https://pandas.pydata.org/pandas-docs/stable/user_guide/indexing.html#returning-a-view-versus-a-copy\n",
            "  \n"
          ]
        }
      ]
    },
    {
      "cell_type": "markdown",
      "source": [
        "Creating Periods to Represent Elapsed Days Since the start of the recession"
      ],
      "metadata": {
        "id": "h9ShYvo4GuGO"
      }
    },
    {
      "cell_type": "code",
      "source": [
        "dates = qRecession1960['Date']\n",
        "dates.to_period('D')\n",
        "dates = dates - dates[0]\n",
        "print(dates)"
      ],
      "metadata": {
        "id": "76g7n3COG0bM",
        "colab": {
          "base_uri": "https://localhost:8080/"
        },
        "outputId": "19d81a82-9ce7-4e7c-fd8e-c02b7a3874b6"
      },
      "execution_count": null,
      "outputs": [
        {
          "output_type": "stream",
          "name": "stdout",
          "text": [
            "1960-04-01     0 days\n",
            "1960-07-01    91 days\n",
            "1960-10-01   183 days\n",
            "1961-01-01   275 days\n",
            "1961-04-01   365 days\n",
            "1961-07-01   456 days\n",
            "Name: Date, dtype: timedelta64[ns]\n"
          ]
        }
      ]
    },
    {
      "cell_type": "markdown",
      "source": [
        "Placing elapsed Days into the Data Frame"
      ],
      "metadata": {
        "id": "kNOt9vRJHPIE"
      }
    },
    {
      "cell_type": "code",
      "source": [
        "qRecession1960.loc[:,\"Elapsed Days\"] = dates\n",
        "qRecession1960.index = qRecession1960['Elapsed Days']\n",
        "print(qRecession1960)"
      ],
      "metadata": {
        "id": "tA1Eou-zHaOB",
        "colab": {
          "base_uri": "https://localhost:8080/"
        },
        "outputId": "c57d0724-df4e-41b9-ce48-92cb31d52a8f"
      },
      "execution_count": null,
      "outputs": [
        {
          "output_type": "stream",
          "name": "stdout",
          "text": [
            "                   DATE      GDP       Date  Elapsed Time Elapsed Days\n",
            "Elapsed Days                                                          \n",
            "0 days         4/1/1960  541.080 1960-04-01             0       0 days\n",
            "91 days        7/1/1960  545.604 1960-07-01            92      91 days\n",
            "183 days      10/1/1960  540.197 1960-10-01           184     183 days\n",
            "275 days       1/1/1961  545.018 1961-01-01           274     275 days\n",
            "365 days       4/1/1961  555.545 1961-04-01           365     365 days\n",
            "456 days       7/1/1961  567.664 1961-07-01           457     456 days\n"
          ]
        },
        {
          "output_type": "stream",
          "name": "stderr",
          "text": [
            "/usr/local/lib/python3.7/dist-packages/pandas/core/indexing.py:1667: SettingWithCopyWarning: \n",
            "A value is trying to be set on a copy of a slice from a DataFrame.\n",
            "Try using .loc[row_indexer,col_indexer] = value instead\n",
            "\n",
            "See the caveats in the documentation: https://pandas.pydata.org/pandas-docs/stable/user_guide/indexing.html#returning-a-view-versus-a-copy\n",
            "  self.obj[key] = value\n"
          ]
        }
      ]
    },
    {
      "cell_type": "markdown",
      "source": [
        "Organizing by Quarters"
      ],
      "metadata": {
        "id": "IRSeAH1yaK24"
      }
    },
    {
      "cell_type": "code",
      "source": [
        "qRecession1960.loc[:,\"Recession\"] = \"Recession 1960\"\n",
        "print(qRecession1960)"
      ],
      "metadata": {
        "id": "Inz-yrVMaNKj",
        "colab": {
          "base_uri": "https://localhost:8080/"
        },
        "outputId": "b28da379-c8a8-4793-d657-a7a788abfa6a"
      },
      "execution_count": null,
      "outputs": [
        {
          "output_type": "stream",
          "name": "stdout",
          "text": [
            "                   DATE      GDP       Date  Elapsed Time Elapsed Days  \\\n",
            "Elapsed Days                                                             \n",
            "0 days         4/1/1960  541.080 1960-04-01             0       0 days   \n",
            "91 days        7/1/1960  545.604 1960-07-01            92      91 days   \n",
            "183 days      10/1/1960  540.197 1960-10-01           184     183 days   \n",
            "275 days       1/1/1961  545.018 1961-01-01           274     275 days   \n",
            "365 days       4/1/1961  555.545 1961-04-01           365     365 days   \n",
            "456 days       7/1/1961  567.664 1961-07-01           457     456 days   \n",
            "\n",
            "                   Recession  \n",
            "Elapsed Days                  \n",
            "0 days        Recession 1960  \n",
            "91 days       Recession 1960  \n",
            "183 days      Recession 1960  \n",
            "275 days      Recession 1960  \n",
            "365 days      Recession 1960  \n",
            "456 days      Recession 1960  \n"
          ]
        },
        {
          "output_type": "stream",
          "name": "stderr",
          "text": [
            "/usr/local/lib/python3.7/dist-packages/pandas/core/indexing.py:1667: SettingWithCopyWarning: \n",
            "A value is trying to be set on a copy of a slice from a DataFrame.\n",
            "Try using .loc[row_indexer,col_indexer] = value instead\n",
            "\n",
            "See the caveats in the documentation: https://pandas.pydata.org/pandas-docs/stable/user_guide/indexing.html#returning-a-view-versus-a-copy\n",
            "  self.obj[key] = value\n"
          ]
        }
      ]
    },
    {
      "cell_type": "markdown",
      "source": [
        "Calculating Change From Baseline"
      ],
      "metadata": {
        "id": "-OuXyWmaC83j"
      }
    },
    {
      "cell_type": "code",
      "source": [
        "start = 541.080\n",
        "qRecession1960['start'] = start\n",
        "qRecession1960['Change from baseline'] = 100 * (qRecession1960.GDP/qRecession1960.start-1)\n",
        "print(qRecession1960)"
      ],
      "metadata": {
        "id": "N-0QC_n1C_Ms",
        "colab": {
          "base_uri": "https://localhost:8080/"
        },
        "outputId": "9395d1f6-8fe2-4255-f86b-0735a686cb70"
      },
      "execution_count": null,
      "outputs": [
        {
          "output_type": "stream",
          "name": "stdout",
          "text": [
            "                   DATE      GDP       Date  Elapsed Time Elapsed Days  \\\n",
            "Elapsed Days                                                             \n",
            "0 days         4/1/1960  541.080 1960-04-01             0       0 days   \n",
            "91 days        7/1/1960  545.604 1960-07-01            92      91 days   \n",
            "183 days      10/1/1960  540.197 1960-10-01           184     183 days   \n",
            "275 days       1/1/1961  545.018 1961-01-01           274     275 days   \n",
            "365 days       4/1/1961  555.545 1961-04-01           365     365 days   \n",
            "456 days       7/1/1961  567.664 1961-07-01           457     456 days   \n",
            "\n",
            "                   Recession   start  Change from baseline  \n",
            "Elapsed Days                                                \n",
            "0 days        Recession 1960  541.08              0.000000  \n",
            "91 days       Recession 1960  541.08              0.836106  \n",
            "183 days      Recession 1960  541.08             -0.163192  \n",
            "275 days      Recession 1960  541.08              0.727804  \n",
            "365 days      Recession 1960  541.08              2.673357  \n",
            "456 days      Recession 1960  541.08              4.913137  \n"
          ]
        },
        {
          "output_type": "stream",
          "name": "stderr",
          "text": [
            "/usr/local/lib/python3.7/dist-packages/ipykernel_launcher.py:2: SettingWithCopyWarning: \n",
            "A value is trying to be set on a copy of a slice from a DataFrame.\n",
            "Try using .loc[row_indexer,col_indexer] = value instead\n",
            "\n",
            "See the caveats in the documentation: https://pandas.pydata.org/pandas-docs/stable/user_guide/indexing.html#returning-a-view-versus-a-copy\n",
            "  \n",
            "/usr/local/lib/python3.7/dist-packages/ipykernel_launcher.py:3: SettingWithCopyWarning: \n",
            "A value is trying to be set on a copy of a slice from a DataFrame.\n",
            "Try using .loc[row_indexer,col_indexer] = value instead\n",
            "\n",
            "See the caveats in the documentation: https://pandas.pydata.org/pandas-docs/stable/user_guide/indexing.html#returning-a-view-versus-a-copy\n",
            "  This is separate from the ipykernel package so we can avoid doing imports until\n"
          ]
        }
      ]
    },
    {
      "cell_type": "code",
      "source": [
        "Recession1960 = qRecession1960['Change from baseline']\n",
        "Recession1960['Elapsed Time'] = interval\n",
        "print(Recession1960)"
      ],
      "metadata": {
        "id": "AdipsO4Q503h",
        "colab": {
          "base_uri": "https://localhost:8080/"
        },
        "outputId": "ec1ba2b0-05d1-4d75-93e2-6bf9fd043bfd"
      },
      "execution_count": null,
      "outputs": [
        {
          "output_type": "stream",
          "name": "stdout",
          "text": [
            "Elapsed Days\n",
            "0 days 00:00:00                              0.0\n",
            "91 days 00:00:00                        0.836106\n",
            "183 days 00:00:00                      -0.163192\n",
            "275 days 00:00:00                       0.727804\n",
            "365 days 00:00:00                       2.673357\n",
            "456 days 00:00:00                       4.913137\n",
            "Elapsed Time         [0, 92, 184, 274, 365, 457]\n",
            "Name: Change from baseline, dtype: object\n"
          ]
        },
        {
          "output_type": "stream",
          "name": "stderr",
          "text": [
            "/usr/local/lib/python3.7/dist-packages/ipykernel_launcher.py:2: SettingWithCopyWarning: \n",
            "A value is trying to be set on a copy of a slice from a DataFrame\n",
            "\n",
            "See the caveats in the documentation: https://pandas.pydata.org/pandas-docs/stable/user_guide/indexing.html#returning-a-view-versus-a-copy\n",
            "  \n",
            "/usr/local/lib/python3.7/dist-packages/pandas/core/indexing.py:1724: SettingWithCopyWarning: \n",
            "A value is trying to be set on a copy of a slice from a DataFrame\n",
            "\n",
            "See the caveats in the documentation: https://pandas.pydata.org/pandas-docs/stable/user_guide/indexing.html#returning-a-view-versus-a-copy\n",
            "  self._setitem_with_indexer_missing(indexer, value)\n"
          ]
        }
      ]
    },
    {
      "cell_type": "markdown",
      "source": [
        "Subsetting for 1981 Recession"
      ],
      "metadata": {
        "id": "0Oz53WXrqGZL"
      }
    },
    {
      "cell_type": "code",
      "source": [
        "qRecession1981 = gdpDf[\"1981-07-01\" : \"1982-10-01\"]\n",
        "qRecession1981['Elapsed Time'] = interval\n",
        "print(qRecession1981)"
      ],
      "metadata": {
        "id": "RcZAyfjGqMI8",
        "colab": {
          "base_uri": "https://localhost:8080/"
        },
        "outputId": "753dbe34-76c6-43af-dccb-330a64a7adbd"
      },
      "execution_count": null,
      "outputs": [
        {
          "output_type": "stream",
          "name": "stdout",
          "text": [
            "                 DATE       GDP       Date  Elapsed Time\n",
            "1981-07-01   7/1/1981  3260.609 1981-07-01             0\n",
            "1981-10-01  10/1/1981  3280.818 1981-10-01            92\n",
            "1982-01-01   1/1/1982  3274.302 1982-01-01           184\n",
            "1982-04-01   4/1/1982  3331.972 1982-04-01           274\n",
            "1982-07-01   7/1/1982  3366.322 1982-07-01           365\n",
            "1982-10-01  10/1/1982  3402.561 1982-10-01           457\n"
          ]
        },
        {
          "output_type": "stream",
          "name": "stderr",
          "text": [
            "/usr/local/lib/python3.7/dist-packages/ipykernel_launcher.py:2: SettingWithCopyWarning: \n",
            "A value is trying to be set on a copy of a slice from a DataFrame.\n",
            "Try using .loc[row_indexer,col_indexer] = value instead\n",
            "\n",
            "See the caveats in the documentation: https://pandas.pydata.org/pandas-docs/stable/user_guide/indexing.html#returning-a-view-versus-a-copy\n",
            "  \n"
          ]
        }
      ]
    },
    {
      "cell_type": "markdown",
      "source": [
        "Create Periods based on data"
      ],
      "metadata": {
        "id": "7bF753jIc-yF"
      }
    },
    {
      "cell_type": "code",
      "source": [
        "dates3 = qRecession1981['Date']\n",
        "dates3.to_period('D')\n",
        "dates3 = dates3 - dates3[0]\n",
        "print(dates3)"
      ],
      "metadata": {
        "id": "O9L7hZoZdC4e",
        "colab": {
          "base_uri": "https://localhost:8080/"
        },
        "outputId": "2a63a3c4-52bc-4cdc-f2b4-52abeaacf86a"
      },
      "execution_count": null,
      "outputs": [
        {
          "output_type": "stream",
          "name": "stdout",
          "text": [
            "1981-07-01     0 days\n",
            "1981-10-01    92 days\n",
            "1982-01-01   184 days\n",
            "1982-04-01   274 days\n",
            "1982-07-01   365 days\n",
            "1982-10-01   457 days\n",
            "Name: Date, dtype: timedelta64[ns]\n"
          ]
        }
      ]
    },
    {
      "cell_type": "markdown",
      "source": [
        "Place Periods Into DataFrame"
      ],
      "metadata": {
        "id": "SzvZ0DJmrCR-"
      }
    },
    {
      "cell_type": "code",
      "source": [
        "qRecession1981.loc[:,\"Elapsed Days\"] = dates3\n",
        "print(qRecession1981)"
      ],
      "metadata": {
        "id": "7zK72g8ZdyoQ",
        "colab": {
          "base_uri": "https://localhost:8080/"
        },
        "outputId": "6e03e7b1-50ef-4318-d28a-4886d4f3bde8"
      },
      "execution_count": null,
      "outputs": [
        {
          "output_type": "stream",
          "name": "stdout",
          "text": [
            "                 DATE       GDP       Date  Elapsed Time Elapsed Days\n",
            "1981-07-01   7/1/1981  3260.609 1981-07-01             0       0 days\n",
            "1981-10-01  10/1/1981  3280.818 1981-10-01            92      92 days\n",
            "1982-01-01   1/1/1982  3274.302 1982-01-01           184     184 days\n",
            "1982-04-01   4/1/1982  3331.972 1982-04-01           274     274 days\n",
            "1982-07-01   7/1/1982  3366.322 1982-07-01           365     365 days\n",
            "1982-10-01  10/1/1982  3402.561 1982-10-01           457     457 days\n"
          ]
        },
        {
          "output_type": "stream",
          "name": "stderr",
          "text": [
            "/usr/local/lib/python3.7/dist-packages/pandas/core/indexing.py:1667: SettingWithCopyWarning: \n",
            "A value is trying to be set on a copy of a slice from a DataFrame.\n",
            "Try using .loc[row_indexer,col_indexer] = value instead\n",
            "\n",
            "See the caveats in the documentation: https://pandas.pydata.org/pandas-docs/stable/user_guide/indexing.html#returning-a-view-versus-a-copy\n",
            "  self.obj[key] = value\n"
          ]
        }
      ]
    },
    {
      "cell_type": "markdown",
      "source": [
        "Place Periods Into Index"
      ],
      "metadata": {
        "id": "-tO05JAEd-bO"
      }
    },
    {
      "cell_type": "code",
      "source": [
        "qRecession1981.index = qRecession1981['Elapsed Days']\n",
        "print(qRecession1981)"
      ],
      "metadata": {
        "id": "jqxLUqIvd_7k",
        "colab": {
          "base_uri": "https://localhost:8080/"
        },
        "outputId": "cfcfa1a0-c5a8-48ab-c47f-313bdf7d561c"
      },
      "execution_count": null,
      "outputs": [
        {
          "output_type": "stream",
          "name": "stdout",
          "text": [
            "                   DATE       GDP       Date  Elapsed Time Elapsed Days\n",
            "Elapsed Days                                                           \n",
            "0 days         7/1/1981  3260.609 1981-07-01             0       0 days\n",
            "92 days       10/1/1981  3280.818 1981-10-01            92      92 days\n",
            "184 days       1/1/1982  3274.302 1982-01-01           184     184 days\n",
            "274 days       4/1/1982  3331.972 1982-04-01           274     274 days\n",
            "365 days       7/1/1982  3366.322 1982-07-01           365     365 days\n",
            "457 days      10/1/1982  3402.561 1982-10-01           457     457 days\n"
          ]
        }
      ]
    },
    {
      "cell_type": "markdown",
      "source": [
        "Place the name of the recession into the dataframe"
      ],
      "metadata": {
        "id": "KFsXFecJeXOJ"
      }
    },
    {
      "cell_type": "code",
      "source": [
        "qRecession1981.loc[:, \"Recession\"] = \"Recession of 1981\"\n",
        "print(qRecession1981)"
      ],
      "metadata": {
        "id": "dAHeaAWorEGH",
        "colab": {
          "base_uri": "https://localhost:8080/"
        },
        "outputId": "a5348d39-74fb-4f59-d239-308d68943ef0"
      },
      "execution_count": null,
      "outputs": [
        {
          "output_type": "stream",
          "name": "stdout",
          "text": [
            "                   DATE       GDP       Date  Elapsed Time Elapsed Days  \\\n",
            "Elapsed Days                                                              \n",
            "0 days         7/1/1981  3260.609 1981-07-01             0       0 days   \n",
            "92 days       10/1/1981  3280.818 1981-10-01            92      92 days   \n",
            "184 days       1/1/1982  3274.302 1982-01-01           184     184 days   \n",
            "274 days       4/1/1982  3331.972 1982-04-01           274     274 days   \n",
            "365 days       7/1/1982  3366.322 1982-07-01           365     365 days   \n",
            "457 days      10/1/1982  3402.561 1982-10-01           457     457 days   \n",
            "\n",
            "                      Recession  \n",
            "Elapsed Days                     \n",
            "0 days        Recession of 1981  \n",
            "92 days       Recession of 1981  \n",
            "184 days      Recession of 1981  \n",
            "274 days      Recession of 1981  \n",
            "365 days      Recession of 1981  \n",
            "457 days      Recession of 1981  \n"
          ]
        },
        {
          "output_type": "stream",
          "name": "stderr",
          "text": [
            "/usr/local/lib/python3.7/dist-packages/pandas/core/indexing.py:1667: SettingWithCopyWarning: \n",
            "A value is trying to be set on a copy of a slice from a DataFrame.\n",
            "Try using .loc[row_indexer,col_indexer] = value instead\n",
            "\n",
            "See the caveats in the documentation: https://pandas.pydata.org/pandas-docs/stable/user_guide/indexing.html#returning-a-view-versus-a-copy\n",
            "  self.obj[key] = value\n"
          ]
        }
      ]
    },
    {
      "cell_type": "markdown",
      "source": [
        "Calculating GDP Change From baseline"
      ],
      "metadata": {
        "id": "osvxDvU2b65s"
      }
    },
    {
      "cell_type": "code",
      "source": [
        "start3 = 3260.609\n",
        "qRecession1981['start'] = start3\n",
        "qRecession1981['Change from baseline'] = 100 * (qRecession1981.GDP/qRecession1981.start - 1 )\n",
        "print(qRecession1981)"
      ],
      "metadata": {
        "id": "adCO-SEReb2y",
        "colab": {
          "base_uri": "https://localhost:8080/"
        },
        "outputId": "917b1fe0-b06e-4885-c92d-fb916ac89a50"
      },
      "execution_count": null,
      "outputs": [
        {
          "output_type": "stream",
          "name": "stdout",
          "text": [
            "                   DATE       GDP       Date  Elapsed Time Elapsed Days  \\\n",
            "Elapsed Days                                                              \n",
            "0 days         7/1/1981  3260.609 1981-07-01             0       0 days   \n",
            "92 days       10/1/1981  3280.818 1981-10-01            92      92 days   \n",
            "184 days       1/1/1982  3274.302 1982-01-01           184     184 days   \n",
            "274 days       4/1/1982  3331.972 1982-04-01           274     274 days   \n",
            "365 days       7/1/1982  3366.322 1982-07-01           365     365 days   \n",
            "457 days      10/1/1982  3402.561 1982-10-01           457     457 days   \n",
            "\n",
            "                      Recession     start  Change from baseline  \n",
            "Elapsed Days                                                     \n",
            "0 days        Recession of 1981  3260.609              0.000000  \n",
            "92 days       Recession of 1981  3260.609              0.619792  \n",
            "184 days      Recession of 1981  3260.609              0.419952  \n",
            "274 days      Recession of 1981  3260.609              2.188640  \n",
            "365 days      Recession of 1981  3260.609              3.242124  \n",
            "457 days      Recession of 1981  3260.609              4.353543  \n"
          ]
        },
        {
          "output_type": "stream",
          "name": "stderr",
          "text": [
            "/usr/local/lib/python3.7/dist-packages/ipykernel_launcher.py:2: SettingWithCopyWarning: \n",
            "A value is trying to be set on a copy of a slice from a DataFrame.\n",
            "Try using .loc[row_indexer,col_indexer] = value instead\n",
            "\n",
            "See the caveats in the documentation: https://pandas.pydata.org/pandas-docs/stable/user_guide/indexing.html#returning-a-view-versus-a-copy\n",
            "  \n",
            "/usr/local/lib/python3.7/dist-packages/ipykernel_launcher.py:3: SettingWithCopyWarning: \n",
            "A value is trying to be set on a copy of a slice from a DataFrame.\n",
            "Try using .loc[row_indexer,col_indexer] = value instead\n",
            "\n",
            "See the caveats in the documentation: https://pandas.pydata.org/pandas-docs/stable/user_guide/indexing.html#returning-a-view-versus-a-copy\n",
            "  This is separate from the ipykernel package so we can avoid doing imports until\n"
          ]
        }
      ]
    },
    {
      "cell_type": "markdown",
      "source": [
        "Create DataFrame to Hold Period and change from baseline"
      ],
      "metadata": {
        "id": "-LwweImBfQih"
      }
    },
    {
      "cell_type": "code",
      "source": [
        "Recession1981 = qRecession1981['Change from baseline']\n",
        "Recession1981['Elapsed Time'] = interval\n",
        "print(Recession1981)"
      ],
      "metadata": {
        "id": "Il_IIHBNfVsy",
        "colab": {
          "base_uri": "https://localhost:8080/"
        },
        "outputId": "ade51c04-e3d6-4cee-f8bf-eb23d16c324c"
      },
      "execution_count": null,
      "outputs": [
        {
          "output_type": "stream",
          "name": "stdout",
          "text": [
            "Elapsed Days\n",
            "0 days 00:00:00                              0.0\n",
            "92 days 00:00:00                        0.619792\n",
            "184 days 00:00:00                       0.419952\n",
            "274 days 00:00:00                        2.18864\n",
            "365 days 00:00:00                       3.242124\n",
            "457 days 00:00:00                       4.353543\n",
            "Elapsed Time         [0, 92, 184, 274, 365, 457]\n",
            "Name: Change from baseline, dtype: object\n"
          ]
        },
        {
          "output_type": "stream",
          "name": "stderr",
          "text": [
            "/usr/local/lib/python3.7/dist-packages/ipykernel_launcher.py:2: SettingWithCopyWarning: \n",
            "A value is trying to be set on a copy of a slice from a DataFrame\n",
            "\n",
            "See the caveats in the documentation: https://pandas.pydata.org/pandas-docs/stable/user_guide/indexing.html#returning-a-view-versus-a-copy\n",
            "  \n",
            "/usr/local/lib/python3.7/dist-packages/pandas/core/indexing.py:1724: SettingWithCopyWarning: \n",
            "A value is trying to be set on a copy of a slice from a DataFrame\n",
            "\n",
            "See the caveats in the documentation: https://pandas.pydata.org/pandas-docs/stable/user_guide/indexing.html#returning-a-view-versus-a-copy\n",
            "  self._setitem_with_indexer_missing(indexer, value)\n"
          ]
        }
      ]
    },
    {
      "cell_type": "markdown",
      "source": [
        "Subsetting for Recession of 1990"
      ],
      "metadata": {
        "id": "_QiXwrS6f9kX"
      }
    },
    {
      "cell_type": "code",
      "source": [
        "qRecession1990 = gdpDf[\"1990-07-01\": \"1991-10-01\"]\n",
        "qRecession1990['Elapsed Time'] = interval\n",
        "print(qRecession1990)"
      ],
      "metadata": {
        "id": "koLoBn1Ygh50",
        "colab": {
          "base_uri": "https://localhost:8080/"
        },
        "outputId": "6ff81a00-3596-4725-f640-d4c6fa32f7f5"
      },
      "execution_count": null,
      "outputs": [
        {
          "output_type": "stream",
          "name": "stdout",
          "text": [
            "                 DATE       GDP       Date  Elapsed Time\n",
            "1990-07-01   7/1/1990  6015.116 1990-07-01             0\n",
            "1990-10-01  10/1/1990  6004.733 1990-10-01            92\n",
            "1991-01-01   1/1/1991  6035.178 1991-01-01           184\n",
            "1991-04-01   4/1/1991  6126.862 1991-04-01           274\n",
            "1991-07-01   7/1/1991  6205.937 1991-07-01           365\n",
            "1991-10-01  10/1/1991  6264.540 1991-10-01           457\n"
          ]
        },
        {
          "output_type": "stream",
          "name": "stderr",
          "text": [
            "/usr/local/lib/python3.7/dist-packages/ipykernel_launcher.py:2: SettingWithCopyWarning: \n",
            "A value is trying to be set on a copy of a slice from a DataFrame.\n",
            "Try using .loc[row_indexer,col_indexer] = value instead\n",
            "\n",
            "See the caveats in the documentation: https://pandas.pydata.org/pandas-docs/stable/user_guide/indexing.html#returning-a-view-versus-a-copy\n",
            "  \n"
          ]
        }
      ]
    },
    {
      "cell_type": "markdown",
      "source": [
        "Create Periods "
      ],
      "metadata": {
        "id": "L68aE3kUg8FN"
      }
    },
    {
      "cell_type": "code",
      "source": [
        "dates4 = qRecession1990['Date']\n",
        "dates4.to_period('D')\n",
        "dates4 = dates4 - dates4[0]\n",
        "print(dates4)"
      ],
      "metadata": {
        "id": "bBW8JkAjg-T_",
        "colab": {
          "base_uri": "https://localhost:8080/"
        },
        "outputId": "b1b48486-a847-46a9-e239-84fd59517935"
      },
      "execution_count": null,
      "outputs": [
        {
          "output_type": "stream",
          "name": "stdout",
          "text": [
            "1990-07-01     0 days\n",
            "1990-10-01    92 days\n",
            "1991-01-01   184 days\n",
            "1991-04-01   274 days\n",
            "1991-07-01   365 days\n",
            "1991-10-01   457 days\n",
            "Name: Date, dtype: timedelta64[ns]\n"
          ]
        }
      ]
    },
    {
      "cell_type": "markdown",
      "source": [
        "Place Periods into dataframe"
      ],
      "metadata": {
        "id": "iVYrYCWthngc"
      }
    },
    {
      "cell_type": "code",
      "source": [
        "qRecession1990.loc[:,\"Elapsed Days\"] = dates4\n",
        "print(qRecession1990)"
      ],
      "metadata": {
        "id": "XV2MQ52rhpRu",
        "colab": {
          "base_uri": "https://localhost:8080/"
        },
        "outputId": "5671d266-77e3-4972-bc18-582f20f60759"
      },
      "execution_count": null,
      "outputs": [
        {
          "output_type": "stream",
          "name": "stdout",
          "text": [
            "                 DATE       GDP       Date  Elapsed Time Elapsed Days\n",
            "1990-07-01   7/1/1990  6015.116 1990-07-01             0       0 days\n",
            "1990-10-01  10/1/1990  6004.733 1990-10-01            92      92 days\n",
            "1991-01-01   1/1/1991  6035.178 1991-01-01           184     184 days\n",
            "1991-04-01   4/1/1991  6126.862 1991-04-01           274     274 days\n",
            "1991-07-01   7/1/1991  6205.937 1991-07-01           365     365 days\n",
            "1991-10-01  10/1/1991  6264.540 1991-10-01           457     457 days\n"
          ]
        },
        {
          "output_type": "stream",
          "name": "stderr",
          "text": [
            "/usr/local/lib/python3.7/dist-packages/pandas/core/indexing.py:1667: SettingWithCopyWarning: \n",
            "A value is trying to be set on a copy of a slice from a DataFrame.\n",
            "Try using .loc[row_indexer,col_indexer] = value instead\n",
            "\n",
            "See the caveats in the documentation: https://pandas.pydata.org/pandas-docs/stable/user_guide/indexing.html#returning-a-view-versus-a-copy\n",
            "  self.obj[key] = value\n"
          ]
        }
      ]
    },
    {
      "cell_type": "markdown",
      "source": [
        "Set Periods as Index"
      ],
      "metadata": {
        "id": "JlU0A8cjh8TG"
      }
    },
    {
      "cell_type": "code",
      "source": [
        "qRecession1990.index = qRecession1990['Elapsed Days']\n",
        "print(qRecession1990)"
      ],
      "metadata": {
        "id": "1a-6ZW0Fh9h6",
        "colab": {
          "base_uri": "https://localhost:8080/"
        },
        "outputId": "22c01731-bffd-4c62-9bcb-00d161edbc8f"
      },
      "execution_count": null,
      "outputs": [
        {
          "output_type": "stream",
          "name": "stdout",
          "text": [
            "                   DATE       GDP       Date  Elapsed Time Elapsed Days\n",
            "Elapsed Days                                                           \n",
            "0 days         7/1/1990  6015.116 1990-07-01             0       0 days\n",
            "92 days       10/1/1990  6004.733 1990-10-01            92      92 days\n",
            "184 days       1/1/1991  6035.178 1991-01-01           184     184 days\n",
            "274 days       4/1/1991  6126.862 1991-04-01           274     274 days\n",
            "365 days       7/1/1991  6205.937 1991-07-01           365     365 days\n",
            "457 days      10/1/1991  6264.540 1991-10-01           457     457 days\n"
          ]
        }
      ]
    },
    {
      "cell_type": "markdown",
      "source": [
        "Naming the recession"
      ],
      "metadata": {
        "id": "JhcPXeU_iKXJ"
      }
    },
    {
      "cell_type": "code",
      "source": [
        "qRecession1990.loc[:,\"Recession\"] = \"Recession of 1990\"\n",
        "print(qRecession1990)"
      ],
      "metadata": {
        "id": "4rG1-X08iMJJ",
        "colab": {
          "base_uri": "https://localhost:8080/"
        },
        "outputId": "8d994ee0-cb9e-48eb-f188-664365b16ff0"
      },
      "execution_count": null,
      "outputs": [
        {
          "output_type": "stream",
          "name": "stdout",
          "text": [
            "                   DATE       GDP       Date  Elapsed Time Elapsed Days  \\\n",
            "Elapsed Days                                                              \n",
            "0 days         7/1/1990  6015.116 1990-07-01             0       0 days   \n",
            "92 days       10/1/1990  6004.733 1990-10-01            92      92 days   \n",
            "184 days       1/1/1991  6035.178 1991-01-01           184     184 days   \n",
            "274 days       4/1/1991  6126.862 1991-04-01           274     274 days   \n",
            "365 days       7/1/1991  6205.937 1991-07-01           365     365 days   \n",
            "457 days      10/1/1991  6264.540 1991-10-01           457     457 days   \n",
            "\n",
            "                      Recession  \n",
            "Elapsed Days                     \n",
            "0 days        Recession of 1990  \n",
            "92 days       Recession of 1990  \n",
            "184 days      Recession of 1990  \n",
            "274 days      Recession of 1990  \n",
            "365 days      Recession of 1990  \n",
            "457 days      Recession of 1990  \n"
          ]
        },
        {
          "output_type": "stream",
          "name": "stderr",
          "text": [
            "/usr/local/lib/python3.7/dist-packages/pandas/core/indexing.py:1667: SettingWithCopyWarning: \n",
            "A value is trying to be set on a copy of a slice from a DataFrame.\n",
            "Try using .loc[row_indexer,col_indexer] = value instead\n",
            "\n",
            "See the caveats in the documentation: https://pandas.pydata.org/pandas-docs/stable/user_guide/indexing.html#returning-a-view-versus-a-copy\n",
            "  self.obj[key] = value\n"
          ]
        }
      ]
    },
    {
      "cell_type": "markdown",
      "source": [
        "Calculating GDP Change from Baseline"
      ],
      "metadata": {
        "id": "J2wE29btiYFE"
      }
    },
    {
      "cell_type": "code",
      "source": [
        "start4 = 6015.116\n",
        "qRecession1990['start'] = start4\n",
        "qRecession1990['Change from baseline'] = 100 * (qRecession1990.GDP/qRecession1990.start-1)\n",
        "print(qRecession1990)"
      ],
      "metadata": {
        "id": "hQ71XIYOibHS",
        "colab": {
          "base_uri": "https://localhost:8080/"
        },
        "outputId": "b8b7f519-d1df-4c45-cf5c-1027e6399d56"
      },
      "execution_count": null,
      "outputs": [
        {
          "output_type": "stream",
          "name": "stdout",
          "text": [
            "                   DATE       GDP       Date  Elapsed Time Elapsed Days  \\\n",
            "Elapsed Days                                                              \n",
            "0 days         7/1/1990  6015.116 1990-07-01             0       0 days   \n",
            "92 days       10/1/1990  6004.733 1990-10-01            92      92 days   \n",
            "184 days       1/1/1991  6035.178 1991-01-01           184     184 days   \n",
            "274 days       4/1/1991  6126.862 1991-04-01           274     274 days   \n",
            "365 days       7/1/1991  6205.937 1991-07-01           365     365 days   \n",
            "457 days      10/1/1991  6264.540 1991-10-01           457     457 days   \n",
            "\n",
            "                      Recession     start  Change from baseline  \n",
            "Elapsed Days                                                     \n",
            "0 days        Recession of 1990  6015.116              0.000000  \n",
            "92 days       Recession of 1990  6015.116             -0.172615  \n",
            "184 days      Recession of 1990  6015.116              0.333526  \n",
            "274 days      Recession of 1990  6015.116              1.857753  \n",
            "365 days      Recession of 1990  6015.116              3.172358  \n",
            "457 days      Recession of 1990  6015.116              4.146620  \n"
          ]
        },
        {
          "output_type": "stream",
          "name": "stderr",
          "text": [
            "/usr/local/lib/python3.7/dist-packages/ipykernel_launcher.py:2: SettingWithCopyWarning: \n",
            "A value is trying to be set on a copy of a slice from a DataFrame.\n",
            "Try using .loc[row_indexer,col_indexer] = value instead\n",
            "\n",
            "See the caveats in the documentation: https://pandas.pydata.org/pandas-docs/stable/user_guide/indexing.html#returning-a-view-versus-a-copy\n",
            "  \n",
            "/usr/local/lib/python3.7/dist-packages/ipykernel_launcher.py:3: SettingWithCopyWarning: \n",
            "A value is trying to be set on a copy of a slice from a DataFrame.\n",
            "Try using .loc[row_indexer,col_indexer] = value instead\n",
            "\n",
            "See the caveats in the documentation: https://pandas.pydata.org/pandas-docs/stable/user_guide/indexing.html#returning-a-view-versus-a-copy\n",
            "  This is separate from the ipykernel package so we can avoid doing imports until\n"
          ]
        }
      ]
    },
    {
      "cell_type": "markdown",
      "source": [
        "Creating Dataframe to hold quarter index and change from baseline"
      ],
      "metadata": {
        "id": "8DhjWsAjizpn"
      }
    },
    {
      "cell_type": "code",
      "source": [
        "Recession1990 = qRecession1990['Change from baseline']\n",
        "Recession1990['Elapsed Time'] = interval\n",
        "print(Recession1990)"
      ],
      "metadata": {
        "id": "MK7M58zQi3hJ",
        "colab": {
          "base_uri": "https://localhost:8080/"
        },
        "outputId": "2b85bc0d-f74d-4160-c6db-9a22dc91bc21"
      },
      "execution_count": null,
      "outputs": [
        {
          "output_type": "stream",
          "name": "stdout",
          "text": [
            "Elapsed Days\n",
            "0 days 00:00:00                              0.0\n",
            "92 days 00:00:00                       -0.172615\n",
            "184 days 00:00:00                       0.333526\n",
            "274 days 00:00:00                       1.857753\n",
            "365 days 00:00:00                       3.172358\n",
            "457 days 00:00:00                        4.14662\n",
            "Elapsed Time         [0, 92, 184, 274, 365, 457]\n",
            "Name: Change from baseline, dtype: object\n"
          ]
        },
        {
          "output_type": "stream",
          "name": "stderr",
          "text": [
            "/usr/local/lib/python3.7/dist-packages/ipykernel_launcher.py:2: SettingWithCopyWarning: \n",
            "A value is trying to be set on a copy of a slice from a DataFrame\n",
            "\n",
            "See the caveats in the documentation: https://pandas.pydata.org/pandas-docs/stable/user_guide/indexing.html#returning-a-view-versus-a-copy\n",
            "  \n",
            "/usr/local/lib/python3.7/dist-packages/pandas/core/indexing.py:1724: SettingWithCopyWarning: \n",
            "A value is trying to be set on a copy of a slice from a DataFrame\n",
            "\n",
            "See the caveats in the documentation: https://pandas.pydata.org/pandas-docs/stable/user_guide/indexing.html#returning-a-view-versus-a-copy\n",
            "  self._setitem_with_indexer_missing(indexer, value)\n"
          ]
        }
      ]
    },
    {
      "cell_type": "markdown",
      "source": [
        "Subsetting Data for Great Recession"
      ],
      "metadata": {
        "id": "6vxBByTHjqm8"
      }
    },
    {
      "cell_type": "code",
      "source": [
        "qRecession2007 = gdpDf[\"2007-12-01\":\"2009-04-01\"]\n",
        "qRecession2007['Elapsed Time'] = interval\n",
        "print(qRecession2007)"
      ],
      "metadata": {
        "id": "Pa1QLHb0jvDo",
        "colab": {
          "base_uri": "https://localhost:8080/"
        },
        "outputId": "fea76267-ad6e-4ac1-d115-60921f75d174"
      },
      "execution_count": null,
      "outputs": [
        {
          "output_type": "stream",
          "name": "stdout",
          "text": [
            "                 DATE        GDP       Date  Elapsed Time\n",
            "2008-01-01   1/1/2008  14706.538 2008-01-01             0\n",
            "2008-04-01   4/1/2008  14865.701 2008-04-01            92\n",
            "2008-07-01   7/1/2008  14898.999 2008-07-01           184\n",
            "2008-10-01  10/1/2008  14608.208 2008-10-01           274\n",
            "2009-01-01   1/1/2009  14430.901 2009-01-01           365\n",
            "2009-04-01   4/1/2009  14381.236 2009-04-01           457\n"
          ]
        },
        {
          "output_type": "stream",
          "name": "stderr",
          "text": [
            "/usr/local/lib/python3.7/dist-packages/ipykernel_launcher.py:2: SettingWithCopyWarning: \n",
            "A value is trying to be set on a copy of a slice from a DataFrame.\n",
            "Try using .loc[row_indexer,col_indexer] = value instead\n",
            "\n",
            "See the caveats in the documentation: https://pandas.pydata.org/pandas-docs/stable/user_guide/indexing.html#returning-a-view-versus-a-copy\n",
            "  \n"
          ]
        }
      ]
    },
    {
      "cell_type": "markdown",
      "source": [
        "Create Periods Based on Data"
      ],
      "metadata": {
        "id": "A-KaLq_hkWNm"
      }
    },
    {
      "cell_type": "code",
      "source": [
        "dates5 = qRecession2007['Date']\n",
        "dates5.to_period(\"D\")\n",
        "dates5 = dates5 - dates5[0]\n",
        "print(dates5)"
      ],
      "metadata": {
        "id": "BGjGHcZ3kYXP",
        "colab": {
          "base_uri": "https://localhost:8080/"
        },
        "outputId": "8dd7da40-de6f-4c73-a745-ffc048b16700"
      },
      "execution_count": null,
      "outputs": [
        {
          "output_type": "stream",
          "name": "stdout",
          "text": [
            "2008-01-01     0 days\n",
            "2008-04-01    91 days\n",
            "2008-07-01   182 days\n",
            "2008-10-01   274 days\n",
            "2009-01-01   366 days\n",
            "2009-04-01   456 days\n",
            "Name: Date, dtype: timedelta64[ns]\n"
          ]
        }
      ]
    },
    {
      "cell_type": "markdown",
      "source": [
        "Place Periods into Data Frame"
      ],
      "metadata": {
        "id": "4Tvanz1Ik8ej"
      }
    },
    {
      "cell_type": "code",
      "source": [
        "qRecession2007.loc[:,\"Elapsed Days\"] = dates5\n",
        "print(qRecession2007)"
      ],
      "metadata": {
        "id": "5IxEbAo_lT72",
        "colab": {
          "base_uri": "https://localhost:8080/"
        },
        "outputId": "0e32121f-805a-4138-cae8-d1656c815303"
      },
      "execution_count": null,
      "outputs": [
        {
          "output_type": "stream",
          "name": "stdout",
          "text": [
            "                 DATE        GDP       Date  Elapsed Time Elapsed Days\n",
            "2008-01-01   1/1/2008  14706.538 2008-01-01             0       0 days\n",
            "2008-04-01   4/1/2008  14865.701 2008-04-01            92      91 days\n",
            "2008-07-01   7/1/2008  14898.999 2008-07-01           184     182 days\n",
            "2008-10-01  10/1/2008  14608.208 2008-10-01           274     274 days\n",
            "2009-01-01   1/1/2009  14430.901 2009-01-01           365     366 days\n",
            "2009-04-01   4/1/2009  14381.236 2009-04-01           457     456 days\n"
          ]
        },
        {
          "output_type": "stream",
          "name": "stderr",
          "text": [
            "/usr/local/lib/python3.7/dist-packages/pandas/core/indexing.py:1667: SettingWithCopyWarning: \n",
            "A value is trying to be set on a copy of a slice from a DataFrame.\n",
            "Try using .loc[row_indexer,col_indexer] = value instead\n",
            "\n",
            "See the caveats in the documentation: https://pandas.pydata.org/pandas-docs/stable/user_guide/indexing.html#returning-a-view-versus-a-copy\n",
            "  self.obj[key] = value\n"
          ]
        }
      ]
    },
    {
      "cell_type": "markdown",
      "source": [
        "Set Periods as Index"
      ],
      "metadata": {
        "id": "6pDUJBdEljXV"
      }
    },
    {
      "cell_type": "code",
      "source": [
        "qRecession2007.index = qRecession2007['Elapsed Days']\n",
        "print(qRecession2007)"
      ],
      "metadata": {
        "id": "3nLWdst_lmGP",
        "colab": {
          "base_uri": "https://localhost:8080/"
        },
        "outputId": "219dde14-1531-4946-846d-2cf795a697ba"
      },
      "execution_count": null,
      "outputs": [
        {
          "output_type": "stream",
          "name": "stdout",
          "text": [
            "                   DATE        GDP       Date  Elapsed Time Elapsed Days\n",
            "Elapsed Days                                                            \n",
            "0 days         1/1/2008  14706.538 2008-01-01             0       0 days\n",
            "91 days        4/1/2008  14865.701 2008-04-01            92      91 days\n",
            "182 days       7/1/2008  14898.999 2008-07-01           184     182 days\n",
            "274 days      10/1/2008  14608.208 2008-10-01           274     274 days\n",
            "366 days       1/1/2009  14430.901 2009-01-01           365     366 days\n",
            "456 days       4/1/2009  14381.236 2009-04-01           457     456 days\n"
          ]
        }
      ]
    },
    {
      "cell_type": "markdown",
      "source": [
        "Name the Recession"
      ],
      "metadata": {
        "id": "fqDVtRomlyxR"
      }
    },
    {
      "cell_type": "code",
      "source": [
        "qRecession2007.loc[:,\"Recession\"] = \"Recession 2007\"\n",
        "print(qRecession2007)"
      ],
      "metadata": {
        "id": "ymInEOxhl0ra",
        "colab": {
          "base_uri": "https://localhost:8080/"
        },
        "outputId": "5bb10a6d-0319-422f-9021-60df65c7cd6d"
      },
      "execution_count": null,
      "outputs": [
        {
          "output_type": "stream",
          "name": "stdout",
          "text": [
            "                   DATE        GDP       Date  Elapsed Time Elapsed Days  \\\n",
            "Elapsed Days                                                               \n",
            "0 days         1/1/2008  14706.538 2008-01-01             0       0 days   \n",
            "91 days        4/1/2008  14865.701 2008-04-01            92      91 days   \n",
            "182 days       7/1/2008  14898.999 2008-07-01           184     182 days   \n",
            "274 days      10/1/2008  14608.208 2008-10-01           274     274 days   \n",
            "366 days       1/1/2009  14430.901 2009-01-01           365     366 days   \n",
            "456 days       4/1/2009  14381.236 2009-04-01           457     456 days   \n",
            "\n",
            "                   Recession  \n",
            "Elapsed Days                  \n",
            "0 days        Recession 2007  \n",
            "91 days       Recession 2007  \n",
            "182 days      Recession 2007  \n",
            "274 days      Recession 2007  \n",
            "366 days      Recession 2007  \n",
            "456 days      Recession 2007  \n"
          ]
        },
        {
          "output_type": "stream",
          "name": "stderr",
          "text": [
            "/usr/local/lib/python3.7/dist-packages/pandas/core/indexing.py:1667: SettingWithCopyWarning: \n",
            "A value is trying to be set on a copy of a slice from a DataFrame.\n",
            "Try using .loc[row_indexer,col_indexer] = value instead\n",
            "\n",
            "See the caveats in the documentation: https://pandas.pydata.org/pandas-docs/stable/user_guide/indexing.html#returning-a-view-versus-a-copy\n",
            "  self.obj[key] = value\n"
          ]
        }
      ]
    },
    {
      "cell_type": "markdown",
      "source": [
        "Calculate GDP Change From Baseline"
      ],
      "metadata": {
        "id": "Umr6U0mLl_Fb"
      }
    },
    {
      "cell_type": "code",
      "source": [
        "start5 = 14706.538\n",
        "qRecession2007['start'] = start5\n",
        "qRecession2007['change from baseline'] = 100 * (qRecession2007.GDP/qRecession2007.start-1)\n",
        "print(qRecession2007)"
      ],
      "metadata": {
        "id": "zik6UBSgmBLL",
        "colab": {
          "base_uri": "https://localhost:8080/"
        },
        "outputId": "91451527-61db-43d2-b6e3-ddba1bc9c3e7"
      },
      "execution_count": null,
      "outputs": [
        {
          "output_type": "stream",
          "name": "stdout",
          "text": [
            "                   DATE        GDP       Date  Elapsed Time Elapsed Days  \\\n",
            "Elapsed Days                                                               \n",
            "0 days         1/1/2008  14706.538 2008-01-01             0       0 days   \n",
            "91 days        4/1/2008  14865.701 2008-04-01            92      91 days   \n",
            "182 days       7/1/2008  14898.999 2008-07-01           184     182 days   \n",
            "274 days      10/1/2008  14608.208 2008-10-01           274     274 days   \n",
            "366 days       1/1/2009  14430.901 2009-01-01           365     366 days   \n",
            "456 days       4/1/2009  14381.236 2009-04-01           457     456 days   \n",
            "\n",
            "                   Recession      start  change from baseline  \n",
            "Elapsed Days                                                   \n",
            "0 days        Recession 2007  14706.538              0.000000  \n",
            "91 days       Recession 2007  14706.538              1.082260  \n",
            "182 days      Recession 2007  14706.538              1.308676  \n",
            "274 days      Recession 2007  14706.538             -0.668614  \n",
            "366 days      Recession 2007  14706.538             -1.874248  \n",
            "456 days      Recession 2007  14706.538             -2.211955  \n"
          ]
        },
        {
          "output_type": "stream",
          "name": "stderr",
          "text": [
            "/usr/local/lib/python3.7/dist-packages/ipykernel_launcher.py:2: SettingWithCopyWarning: \n",
            "A value is trying to be set on a copy of a slice from a DataFrame.\n",
            "Try using .loc[row_indexer,col_indexer] = value instead\n",
            "\n",
            "See the caveats in the documentation: https://pandas.pydata.org/pandas-docs/stable/user_guide/indexing.html#returning-a-view-versus-a-copy\n",
            "  \n",
            "/usr/local/lib/python3.7/dist-packages/ipykernel_launcher.py:3: SettingWithCopyWarning: \n",
            "A value is trying to be set on a copy of a slice from a DataFrame.\n",
            "Try using .loc[row_indexer,col_indexer] = value instead\n",
            "\n",
            "See the caveats in the documentation: https://pandas.pydata.org/pandas-docs/stable/user_guide/indexing.html#returning-a-view-versus-a-copy\n",
            "  This is separate from the ipykernel package so we can avoid doing imports until\n"
          ]
        }
      ]
    },
    {
      "cell_type": "markdown",
      "source": [
        "Create Dataframe to hold the changes"
      ],
      "metadata": {
        "id": "EQN8blsY2xbQ"
      }
    },
    {
      "cell_type": "code",
      "source": [
        "Recession2007 = qRecession2007['change from baseline']"
      ],
      "metadata": {
        "id": "j1ZwoADX2z7g"
      },
      "execution_count": null,
      "outputs": []
    },
    {
      "cell_type": "markdown",
      "source": [
        "Subsetting for Current GDP"
      ],
      "metadata": {
        "id": "n1OVZ8FyNBq4"
      }
    },
    {
      "cell_type": "code",
      "source": [
        "qRecession2022 = gdpDf['2021-01-01' : '2022-09-01']\n",
        "qRecession2022['Elapsed Time'] = interval\n",
        "print(qRecession2022)"
      ],
      "metadata": {
        "id": "ZT6yM7osNEHc",
        "colab": {
          "base_uri": "https://localhost:8080/"
        },
        "outputId": "d15c79c5-4531-4515-9f25-070706532aba"
      },
      "execution_count": null,
      "outputs": [
        {
          "output_type": "stream",
          "name": "stdout",
          "text": [
            "                 DATE        GDP       Date  Elapsed Time\n",
            "2021-01-01   1/1/2021  22313.850 2021-01-01             0\n",
            "2021-04-01   4/1/2021  23046.934 2021-04-01            92\n",
            "2021-07-01   7/1/2021  23550.420 2021-07-01           184\n",
            "2021-10-01  10/1/2021  24349.121 2021-10-01           274\n",
            "2022-01-01   1/1/2022  24740.480 2022-01-01           365\n",
            "2022-04-01   4/1/2022  25248.476 2022-04-01           457\n"
          ]
        },
        {
          "output_type": "stream",
          "name": "stderr",
          "text": [
            "/usr/local/lib/python3.7/dist-packages/ipykernel_launcher.py:2: SettingWithCopyWarning: \n",
            "A value is trying to be set on a copy of a slice from a DataFrame.\n",
            "Try using .loc[row_indexer,col_indexer] = value instead\n",
            "\n",
            "See the caveats in the documentation: https://pandas.pydata.org/pandas-docs/stable/user_guide/indexing.html#returning-a-view-versus-a-copy\n",
            "  \n"
          ]
        }
      ]
    },
    {
      "cell_type": "markdown",
      "source": [
        "Create Periods Based on Data"
      ],
      "metadata": {
        "id": "MU7VIh5JNcxn"
      }
    },
    {
      "cell_type": "code",
      "source": [
        "dates6 = qRecession2022['Date']\n",
        "dates6.to_period('D')\n",
        "dates6 = dates6 - dates6[0]\n",
        "print(dates6)\n"
      ],
      "metadata": {
        "id": "4PbEghEtNhVk",
        "colab": {
          "base_uri": "https://localhost:8080/"
        },
        "outputId": "cff57d0c-86d4-49ce-d015-3f1968980ba5"
      },
      "execution_count": null,
      "outputs": [
        {
          "output_type": "stream",
          "name": "stdout",
          "text": [
            "2021-01-01     0 days\n",
            "2021-04-01    90 days\n",
            "2021-07-01   181 days\n",
            "2021-10-01   273 days\n",
            "2022-01-01   365 days\n",
            "2022-04-01   455 days\n",
            "Name: Date, dtype: timedelta64[ns]\n"
          ]
        }
      ]
    },
    {
      "cell_type": "markdown",
      "source": [
        "Place Periods Into Data Frame"
      ],
      "metadata": {
        "id": "vaPWiwPEN3RP"
      }
    },
    {
      "cell_type": "code",
      "source": [
        "qRecession2022.loc[:,'Elapsed Days'] = dates6\n",
        "print(qRecession2022)"
      ],
      "metadata": {
        "id": "WZc_Q-SPN5b5",
        "colab": {
          "base_uri": "https://localhost:8080/"
        },
        "outputId": "2d08d21f-0411-4a12-d850-2075be2f8f5e"
      },
      "execution_count": null,
      "outputs": [
        {
          "output_type": "stream",
          "name": "stdout",
          "text": [
            "                 DATE        GDP       Date  Elapsed Time Elapsed Days\n",
            "2021-01-01   1/1/2021  22313.850 2021-01-01             0       0 days\n",
            "2021-04-01   4/1/2021  23046.934 2021-04-01            92      90 days\n",
            "2021-07-01   7/1/2021  23550.420 2021-07-01           184     181 days\n",
            "2021-10-01  10/1/2021  24349.121 2021-10-01           274     273 days\n",
            "2022-01-01   1/1/2022  24740.480 2022-01-01           365     365 days\n",
            "2022-04-01   4/1/2022  25248.476 2022-04-01           457     455 days\n"
          ]
        },
        {
          "output_type": "stream",
          "name": "stderr",
          "text": [
            "/usr/local/lib/python3.7/dist-packages/pandas/core/indexing.py:1667: SettingWithCopyWarning: \n",
            "A value is trying to be set on a copy of a slice from a DataFrame.\n",
            "Try using .loc[row_indexer,col_indexer] = value instead\n",
            "\n",
            "See the caveats in the documentation: https://pandas.pydata.org/pandas-docs/stable/user_guide/indexing.html#returning-a-view-versus-a-copy\n",
            "  self.obj[key] = value\n"
          ]
        }
      ]
    },
    {
      "cell_type": "markdown",
      "source": [
        "Set Periods as Index"
      ],
      "metadata": {
        "id": "RwQjjY5pOB9f"
      }
    },
    {
      "cell_type": "code",
      "source": [
        "qRecession2022.index = qRecession2022['Elapsed Days']\n",
        "print(qRecession2022)"
      ],
      "metadata": {
        "id": "6JYdPFGbOEUj",
        "colab": {
          "base_uri": "https://localhost:8080/"
        },
        "outputId": "0ae53f20-8007-440a-afc1-2f6327f7f263"
      },
      "execution_count": null,
      "outputs": [
        {
          "output_type": "stream",
          "name": "stdout",
          "text": [
            "                   DATE        GDP       Date  Elapsed Time Elapsed Days\n",
            "Elapsed Days                                                            \n",
            "0 days         1/1/2021  22313.850 2021-01-01             0       0 days\n",
            "90 days        4/1/2021  23046.934 2021-04-01            92      90 days\n",
            "181 days       7/1/2021  23550.420 2021-07-01           184     181 days\n",
            "273 days      10/1/2021  24349.121 2021-10-01           274     273 days\n",
            "365 days       1/1/2022  24740.480 2022-01-01           365     365 days\n",
            "455 days       4/1/2022  25248.476 2022-04-01           457     455 days\n"
          ]
        }
      ]
    },
    {
      "cell_type": "markdown",
      "source": [
        "Name the Recession"
      ],
      "metadata": {
        "id": "0PAjGZn8OK6Y"
      }
    },
    {
      "cell_type": "code",
      "source": [
        "qRecession2022.loc[:,'Recession'] = 'Current'\n",
        "print(qRecession2022)"
      ],
      "metadata": {
        "id": "_09o1_moOMh4",
        "colab": {
          "base_uri": "https://localhost:8080/"
        },
        "outputId": "eed71cf1-59e6-48c8-ed74-c4476f448486"
      },
      "execution_count": null,
      "outputs": [
        {
          "output_type": "stream",
          "name": "stdout",
          "text": [
            "                   DATE        GDP       Date  Elapsed Time Elapsed Days  \\\n",
            "Elapsed Days                                                               \n",
            "0 days         1/1/2021  22313.850 2021-01-01             0       0 days   \n",
            "90 days        4/1/2021  23046.934 2021-04-01            92      90 days   \n",
            "181 days       7/1/2021  23550.420 2021-07-01           184     181 days   \n",
            "273 days      10/1/2021  24349.121 2021-10-01           274     273 days   \n",
            "365 days       1/1/2022  24740.480 2022-01-01           365     365 days   \n",
            "455 days       4/1/2022  25248.476 2022-04-01           457     455 days   \n",
            "\n",
            "             Recession  \n",
            "Elapsed Days            \n",
            "0 days         Current  \n",
            "90 days        Current  \n",
            "181 days       Current  \n",
            "273 days       Current  \n",
            "365 days       Current  \n",
            "455 days       Current  \n"
          ]
        },
        {
          "output_type": "stream",
          "name": "stderr",
          "text": [
            "/usr/local/lib/python3.7/dist-packages/pandas/core/indexing.py:1667: SettingWithCopyWarning: \n",
            "A value is trying to be set on a copy of a slice from a DataFrame.\n",
            "Try using .loc[row_indexer,col_indexer] = value instead\n",
            "\n",
            "See the caveats in the documentation: https://pandas.pydata.org/pandas-docs/stable/user_guide/indexing.html#returning-a-view-versus-a-copy\n",
            "  self.obj[key] = value\n"
          ]
        }
      ]
    },
    {
      "cell_type": "markdown",
      "source": [
        "Create Change From Baseline"
      ],
      "metadata": {
        "id": "4t02B44-OZkF"
      }
    },
    {
      "cell_type": "code",
      "source": [
        "start6 = 22313.850\n",
        "qRecession2022['start'] = start6\n",
        "qRecession2022['Change from baseline'] = 100 * (qRecession2022.GDP/qRecession2022.start-1)\n",
        "print(qRecession2022)"
      ],
      "metadata": {
        "id": "NwIOP8NqObtO",
        "colab": {
          "base_uri": "https://localhost:8080/"
        },
        "outputId": "db343217-4c16-4f52-db65-041679ab151b"
      },
      "execution_count": null,
      "outputs": [
        {
          "output_type": "stream",
          "name": "stdout",
          "text": [
            "                   DATE        GDP       Date  Elapsed Time Elapsed Days  \\\n",
            "Elapsed Days                                                               \n",
            "0 days         1/1/2021  22313.850 2021-01-01             0       0 days   \n",
            "90 days        4/1/2021  23046.934 2021-04-01            92      90 days   \n",
            "181 days       7/1/2021  23550.420 2021-07-01           184     181 days   \n",
            "273 days      10/1/2021  24349.121 2021-10-01           274     273 days   \n",
            "365 days       1/1/2022  24740.480 2022-01-01           365     365 days   \n",
            "455 days       4/1/2022  25248.476 2022-04-01           457     455 days   \n",
            "\n",
            "             Recession     start  Change from baseline  \n",
            "Elapsed Days                                            \n",
            "0 days         Current  22313.85              0.000000  \n",
            "90 days        Current  22313.85              3.285332  \n",
            "181 days       Current  22313.85              5.541715  \n",
            "273 days       Current  22313.85              9.121111  \n",
            "365 days       Current  22313.85             10.874995  \n",
            "455 days       Current  22313.85             13.151590  \n"
          ]
        },
        {
          "output_type": "stream",
          "name": "stderr",
          "text": [
            "/usr/local/lib/python3.7/dist-packages/ipykernel_launcher.py:2: SettingWithCopyWarning: \n",
            "A value is trying to be set on a copy of a slice from a DataFrame.\n",
            "Try using .loc[row_indexer,col_indexer] = value instead\n",
            "\n",
            "See the caveats in the documentation: https://pandas.pydata.org/pandas-docs/stable/user_guide/indexing.html#returning-a-view-versus-a-copy\n",
            "  \n",
            "/usr/local/lib/python3.7/dist-packages/ipykernel_launcher.py:3: SettingWithCopyWarning: \n",
            "A value is trying to be set on a copy of a slice from a DataFrame.\n",
            "Try using .loc[row_indexer,col_indexer] = value instead\n",
            "\n",
            "See the caveats in the documentation: https://pandas.pydata.org/pandas-docs/stable/user_guide/indexing.html#returning-a-view-versus-a-copy\n",
            "  This is separate from the ipykernel package so we can avoid doing imports until\n"
          ]
        }
      ]
    },
    {
      "cell_type": "markdown",
      "source": [
        "Create dataframe to hold change from baseline"
      ],
      "metadata": {
        "id": "c-mUzurFO9ss"
      }
    },
    {
      "cell_type": "code",
      "source": [
        "RecessionCurrent= qRecession2022['Change from baseline']\n",
        "RecessionCurrent['Elapsed Time'] = interval\n",
        "print(RecessionCurrent)"
      ],
      "metadata": {
        "id": "zC7EykMjPBmq",
        "colab": {
          "base_uri": "https://localhost:8080/"
        },
        "outputId": "53f8e80a-3184-4e8f-c693-aa6fffe1481e"
      },
      "execution_count": null,
      "outputs": [
        {
          "output_type": "stream",
          "name": "stdout",
          "text": [
            "Elapsed Days\n",
            "0 days 00:00:00                              0.0\n",
            "90 days 00:00:00                        3.285332\n",
            "181 days 00:00:00                       5.541715\n",
            "273 days 00:00:00                       9.121111\n",
            "365 days 00:00:00                      10.874995\n",
            "455 days 00:00:00                       13.15159\n",
            "Elapsed Time         [0, 92, 184, 274, 365, 457]\n",
            "Name: Change from baseline, dtype: object\n"
          ]
        },
        {
          "output_type": "stream",
          "name": "stderr",
          "text": [
            "/usr/local/lib/python3.7/dist-packages/ipykernel_launcher.py:2: SettingWithCopyWarning: \n",
            "A value is trying to be set on a copy of a slice from a DataFrame\n",
            "\n",
            "See the caveats in the documentation: https://pandas.pydata.org/pandas-docs/stable/user_guide/indexing.html#returning-a-view-versus-a-copy\n",
            "  \n",
            "/usr/local/lib/python3.7/dist-packages/pandas/core/indexing.py:1724: SettingWithCopyWarning: \n",
            "A value is trying to be set on a copy of a slice from a DataFrame\n",
            "\n",
            "See the caveats in the documentation: https://pandas.pydata.org/pandas-docs/stable/user_guide/indexing.html#returning-a-view-versus-a-copy\n",
            "  self._setitem_with_indexer_missing(indexer, value)\n"
          ]
        }
      ]
    },
    {
      "cell_type": "code",
      "source": [
        "plt.style.use('ggplot')\n",
        "plt.rcParams[\"figure.figsize\"] = (15,8)\n",
        "\n",
        "plt.plot(qRecession1953['Elapsed Time'], qRecession1953['Change from baseline'], label = \"Recession 1953\", color = \"#F60000\", linewidth = 3)\n",
        "plt.plot(qRecession1960['Elapsed Time'], qRecession1960['Change from baseline'], label = \"Recession 1960\", color = \"#FF8C00\" , linewidth = 3)\n",
        "plt.plot(qRecession1981['Elapsed Time'], qRecession1981['Change from baseline'], label = \"Recession 1981\", color = \"#FFEE00\", linewidth = 3)\n",
        "plt.plot(qRecession1990['Elapsed Time'], qRecession1990['Change from baseline'], label = \"Recession 1990\", color = \"#4DE94C\", linewidth = 3)\n",
        "plt.plot(qRecession2007['Elapsed Time'], qRecession2007['change from baseline'], label = \"Great Recession\", color = \"#4815AA\", linewidth = 3)\n",
        "plt.plot(qRecession2022['Elapsed Time'], qRecession2022['Change from baseline'],label = \"2021-2022\", color = \"#3783FF\", linewidth = 3)\n",
        "\n",
        "plt.title(\"Change in Gross Domestic Product VS Elapsed Time in Days From Start of Recession\")\n",
        "plt.xlabel(\"Number of Days Elapsed Since Start of Recession\")\n",
        "plt.ylabel(\"GDP Percent Change From Baseline\")\n",
        "plt.axhline(y = 0, color = \"black\", linestyle = \"--\")\n",
        "plt.xlim(0)\n",
        "plt.xlim(right = 440)\n",
        "plt.legend(loc = \"upper left\")\n",
        "plt.show()"
      ],
      "metadata": {
        "id": "MUqX9gK4lj6Z",
        "colab": {
          "base_uri": "https://localhost:8080/",
          "height": 517
        },
        "outputId": "67550578-f9d9-4aef-cb35-70f5cfdbfb9e"
      },
      "execution_count": null,
      "outputs": [
        {
          "output_type": "display_data",
          "data": {
            "text/plain": [
              "<Figure size 1080x576 with 1 Axes>"
            ],
            "image/png": "[encoded data removed]"
          },
          "metadata": {}
        }
      ]
    },
    {
      "cell_type": "markdown",
      "source": [
        "Merging the two data frames"
      ],
      "metadata": {
        "id": "JwvJZmqbbYbb"
      }
    },
    {
      "cell_type": "code",
      "source": [
        "mergedDf = pd.merge(qRecession1953,qRecession1960, how = 'outer')\n",
        "print(mergedDf)"
      ],
      "metadata": {
        "id": "lyr1bKs7baW9",
        "colab": {
          "base_uri": "https://localhost:8080/"
        },
        "outputId": "bbb46018-bc50-4c22-a4c8-a6a80a8be489"
      },
      "execution_count": null,
      "outputs": [
        {
          "output_type": "stream",
          "name": "stdout",
          "text": [
            "         DATE      GDP       Date  Elapsed Time  Elapsed       Recession  \\\n",
            "0    7/1/1953  391.171 1953-07-01             0   0 days  Recession 1953   \n",
            "1   10/1/1953  385.970 1953-10-01            92  92 days  Recession 1953   \n",
            "2    1/1/1954  385.345 1954-01-01           184 184 days  Recession 1953   \n",
            "3    4/1/1954  386.121 1954-04-01           274 274 days  Recession 1953   \n",
            "4    7/1/1954  390.996 1954-07-01           365 365 days  Recession 1953   \n",
            "5   10/1/1954  399.734 1954-10-01           457 457 days  Recession 1953   \n",
            "6    4/1/1960  541.080 1960-04-01             0      NaT  Recession 1960   \n",
            "7    7/1/1960  545.604 1960-07-01            92      NaT  Recession 1960   \n",
            "8   10/1/1960  540.197 1960-10-01           184      NaT  Recession 1960   \n",
            "9    1/1/1961  545.018 1961-01-01           274      NaT  Recession 1960   \n",
            "10   4/1/1961  555.545 1961-04-01           365      NaT  Recession 1960   \n",
            "11   7/1/1961  567.664 1961-07-01           457      NaT  Recession 1960   \n",
            "\n",
            "      start  Change from baseline Elapsed Days  \n",
            "0   391.171              0.000000          NaT  \n",
            "1   391.171             -1.329598          NaT  \n",
            "2   391.171             -1.489374          NaT  \n",
            "3   391.171             -1.290995          NaT  \n",
            "4   391.171             -0.044737          NaT  \n",
            "5   391.171              2.189068          NaT  \n",
            "6   541.080              0.000000       0 days  \n",
            "7   541.080              0.836106      91 days  \n",
            "8   541.080             -0.163192     183 days  \n",
            "9   541.080              0.727804     275 days  \n",
            "10  541.080              2.673357     365 days  \n",
            "11  541.080              4.913137     456 days  \n"
          ]
        }
      ]
    },
    {
      "cell_type": "markdown",
      "source": [
        "Importing the dataset and demonstrating it can be loaded"
      ],
      "metadata": {
        "id": "wZzixc0nuvWb"
      }
    },
    {
      "cell_type": "markdown",
      "source": [
        "# Analyzing Inflation"
      ],
      "metadata": {
        "id": "iWnyBNukwKLK"
      }
    },
    {
      "cell_type": "markdown",
      "source": [
        "Pulling in Dataframe and subsetting for USA "
      ],
      "metadata": {
        "id": "NxBArC0J_xwY"
      }
    },
    {
      "cell_type": "code",
      "source": [
        "inflationdf = pd.read_csv(r\"/content/drive/MyDrive/Data Analysis/Inflation.csv\", parse_dates = ['TIME'] )\n",
        "inflationdf = inflationdf.iloc[19476 : 20275]\n",
        "print(inflationdf)"
      ],
      "metadata": {
        "id": "feDW4w5ruyH0",
        "colab": {
          "base_uri": "https://localhost:8080/"
        },
        "outputId": "2b35059f-d12a-4792-c12a-ca4dd569eb7d"
      },
      "execution_count": null,
      "outputs": [
        {
          "output_type": "stream",
          "name": "stdout",
          "text": [
            "      LOCATION INDICATOR SUBJECT MEASURE FREQUENCY       TIME     Value  \\\n",
            "19476      USA       CPI     TOT  AGRWTH         M 1956-03-01  0.374532   \n",
            "19477      USA       CPI     TOT  AGRWTH         M 1956-04-01  0.749064   \n",
            "19478      USA       CPI     TOT  AGRWTH         M 1956-05-01  1.123595   \n",
            "19479      USA       CPI     TOT  AGRWTH         M 1956-06-01  1.872659   \n",
            "19480      USA       CPI     TOT  AGRWTH         M 1956-07-01  2.238806   \n",
            "...        ...       ...     ...     ...       ...        ...       ...   \n",
            "20270      USA       CPI     TOT  AGRWTH         M 2022-05-01  8.581511   \n",
            "20271      USA       CPI     TOT  AGRWTH         M 2022-06-01  9.059758   \n",
            "20272      USA       CPI     TOT  AGRWTH         M 2022-07-01  8.524815   \n",
            "20273      USA       CPI     TOT  AGRWTH         M 2022-08-01  8.262692   \n",
            "20274      USA       CPI     TOT  AGRWTH         M 2022-09-01  8.201670   \n",
            "\n",
            "      Flag Codes  \n",
            "19476        NaN  \n",
            "19477        NaN  \n",
            "19478        NaN  \n",
            "19479        NaN  \n",
            "19480        NaN  \n",
            "...          ...  \n",
            "20270        NaN  \n",
            "20271        NaN  \n",
            "20272        NaN  \n",
            "20273        NaN  \n",
            "20274        NaN  \n",
            "\n",
            "[799 rows x 8 columns]\n"
          ]
        }
      ]
    },
    {
      "cell_type": "markdown",
      "source": [
        "Creating elapsed time interval"
      ],
      "metadata": {
        "id": "pbxWhyrVcYYi"
      }
    },
    {
      "cell_type": "code",
      "source": [
        "inflationdf['Date'] = pd.to_datetime(inflationdf['TIME'], );\n",
        "print(inflationdf)"
      ],
      "metadata": {
        "colab": {
          "base_uri": "https://localhost:8080/"
        },
        "id": "wttGAs0kyCSj",
        "outputId": "aab13ca0-9674-4f48-dd71-920f8f233ee5"
      },
      "execution_count": null,
      "outputs": [
        {
          "output_type": "stream",
          "name": "stdout",
          "text": [
            "      LOCATION INDICATOR SUBJECT MEASURE FREQUENCY       TIME     Value  \\\n",
            "19476      USA       CPI     TOT  AGRWTH         M 1956-03-01  0.374532   \n",
            "19477      USA       CPI     TOT  AGRWTH         M 1956-04-01  0.749064   \n",
            "19478      USA       CPI     TOT  AGRWTH         M 1956-05-01  1.123595   \n",
            "19479      USA       CPI     TOT  AGRWTH         M 1956-06-01  1.872659   \n",
            "19480      USA       CPI     TOT  AGRWTH         M 1956-07-01  2.238806   \n",
            "...        ...       ...     ...     ...       ...        ...       ...   \n",
            "20270      USA       CPI     TOT  AGRWTH         M 2022-05-01  8.581511   \n",
            "20271      USA       CPI     TOT  AGRWTH         M 2022-06-01  9.059758   \n",
            "20272      USA       CPI     TOT  AGRWTH         M 2022-07-01  8.524815   \n",
            "20273      USA       CPI     TOT  AGRWTH         M 2022-08-01  8.262692   \n",
            "20274      USA       CPI     TOT  AGRWTH         M 2022-09-01  8.201670   \n",
            "\n",
            "      Flag Codes       Date  \n",
            "19476        NaN 1956-03-01  \n",
            "19477        NaN 1956-04-01  \n",
            "19478        NaN 1956-05-01  \n",
            "19479        NaN 1956-06-01  \n",
            "19480        NaN 1956-07-01  \n",
            "...          ...        ...  \n",
            "20270        NaN 2022-05-01  \n",
            "20271        NaN 2022-06-01  \n",
            "20272        NaN 2022-07-01  \n",
            "20273        NaN 2022-08-01  \n",
            "20274        NaN 2022-09-01  \n",
            "\n",
            "[799 rows x 9 columns]\n"
          ]
        }
      ]
    },
    {
      "cell_type": "markdown",
      "source": [
        "Slicing off unneeded values from dataframe"
      ],
      "metadata": {
        "id": "2-uagizw9MZI"
      }
    },
    {
      "cell_type": "code",
      "source": [
        "inflationdffixed = inflationdf[['TIME','Value']]\n",
        "print(inflationdffixed.dtypes)\n",
        "print(inflationdffixed.tail(24))"
      ],
      "metadata": {
        "colab": {
          "base_uri": "https://localhost:8080/"
        },
        "id": "yx6PQUFX9P7k",
        "outputId": "077242c5-1e79-46f6-953a-a89b9429dbf0"
      },
      "execution_count": null,
      "outputs": [
        {
          "output_type": "stream",
          "name": "stdout",
          "text": [
            "TIME     datetime64[ns]\n",
            "Value           float64\n",
            "dtype: object\n",
            "            TIME     Value\n",
            "20251 2020-10-01  1.182066\n",
            "20252 2020-11-01  1.174536\n",
            "20253 2020-12-01  1.362005\n",
            "20254 2021-01-01  1.399770\n",
            "20255 2021-02-01  1.676215\n",
            "20256 2021-03-01  2.619762\n",
            "20257 2021-04-01  4.159695\n",
            "20258 2021-05-01  4.992707\n",
            "20259 2021-06-01  5.391451\n",
            "20260 2021-07-01  5.365475\n",
            "20261 2021-08-01  5.251272\n",
            "20262 2021-09-01  5.390349\n",
            "20263 2021-10-01  6.221869\n",
            "20264 2021-11-01  6.809003\n",
            "20265 2021-12-01  7.036403\n",
            "20266 2022-01-01  7.479873\n",
            "20267 2022-02-01  7.871064\n",
            "20268 2022-03-01  8.542456\n",
            "20269 2022-04-01  8.258630\n",
            "20270 2022-05-01  8.581511\n",
            "20271 2022-06-01  9.059758\n",
            "20272 2022-07-01  8.524815\n",
            "20273 2022-08-01  8.262692\n",
            "20274 2022-09-01  8.201670\n"
          ]
        }
      ]
    },
    {
      "cell_type": "markdown",
      "source": [
        "Setting index as date and then subsetting for every four months "
      ],
      "metadata": {
        "id": "nYUu4rODbfK2"
      }
    },
    {
      "cell_type": "code",
      "source": [
        "indexList = list(inflationdf['TIME'])\n",
        "inflationdffixed.index = indexList\n",
        "inflationdffixed.index = pd.to_datetime(inflationdffixed.index)\n",
        "#inflationdffixed = inflationdffixed[inflationdffixed.index.month.isin([1,4,7,10])]\n",
        "inflationdffixed.head(10)"
      ],
      "metadata": {
        "colab": {
          "base_uri": "https://localhost:8080/",
          "height": 363
        },
        "id": "kach5VZW1Rlj",
        "outputId": "360d8311-8d96-48a4-c632-bd43e314d62c"
      },
      "execution_count": null,
      "outputs": [
        {
          "output_type": "execute_result",
          "data": {
            "text/plain": [
              "                 TIME     Value\n",
              "1956-03-01 1956-03-01  0.374532\n",
              "1956-04-01 1956-04-01  0.749064\n",
              "1956-05-01 1956-05-01  1.123595\n",
              "1956-06-01 1956-06-01  1.872659\n",
              "1956-07-01 1956-07-01  2.238806\n",
              "1956-08-01 1956-08-01  1.865672\n",
              "1956-09-01 1956-09-01  1.858736\n",
              "1956-10-01 1956-10-01  2.230483\n",
              "1956-11-01 1956-11-01  2.230483\n",
              "1956-12-01 1956-12-01  2.985075"
            ],
            "text/html": [
              "\n",
              "  <div id=\"df-6ff1bd75-cbe1-440d-82a7-2f88904696af\">\n",
              "    <div class=\"colab-df-container\">\n",
              "      <div>\n",
              "<style scoped>\n",
              "    .dataframe tbody tr th:only-of-type {\n",
              "        vertical-align: middle;\n",
              "    }\n",
              "\n",
              "    .dataframe tbody tr th {\n",
              "        vertical-align: top;\n",
              "    }\n",
              "\n",
              "    .dataframe thead th {\n",
              "        text-align: right;\n",
              "    }\n",
              "</style>\n",
              "<table border=\"1\" class=\"dataframe\">\n",
              "  <thead>\n",
              "    <tr style=\"text-align: right;\">\n",
              "      <th></th>\n",
              "      <th>TIME</th>\n",
              "      <th>Value</th>\n",
              "    </tr>\n",
              "  </thead>\n",
              "  <tbody>\n",
              "    <tr>\n",
              "      <th>1956-03-01</th>\n",
              "      <td>1956-03-01</td>\n",
              "      <td>0.374532</td>\n",
              "    </tr>\n",
              "    <tr>\n",
              "      <th>1956-04-01</th>\n",
              "      <td>1956-04-01</td>\n",
              "      <td>0.749064</td>\n",
              "    </tr>\n",
              "    <tr>\n",
              "      <th>1956-05-01</th>\n",
              "      <td>1956-05-01</td>\n",
              "      <td>1.123595</td>\n",
              "    </tr>\n",
              "    <tr>\n",
              "      <th>1956-06-01</th>\n",
              "      <td>1956-06-01</td>\n",
              "      <td>1.872659</td>\n",
              "    </tr>\n",
              "    <tr>\n",
              "      <th>1956-07-01</th>\n",
              "      <td>1956-07-01</td>\n",
              "      <td>2.238806</td>\n",
              "    </tr>\n",
              "    <tr>\n",
              "      <th>1956-08-01</th>\n",
              "      <td>1956-08-01</td>\n",
              "      <td>1.865672</td>\n",
              "    </tr>\n",
              "    <tr>\n",
              "      <th>1956-09-01</th>\n",
              "      <td>1956-09-01</td>\n",
              "      <td>1.858736</td>\n",
              "    </tr>\n",
              "    <tr>\n",
              "      <th>1956-10-01</th>\n",
              "      <td>1956-10-01</td>\n",
              "      <td>2.230483</td>\n",
              "    </tr>\n",
              "    <tr>\n",
              "      <th>1956-11-01</th>\n",
              "      <td>1956-11-01</td>\n",
              "      <td>2.230483</td>\n",
              "    </tr>\n",
              "    <tr>\n",
              "      <th>1956-12-01</th>\n",
              "      <td>1956-12-01</td>\n",
              "      <td>2.985075</td>\n",
              "    </tr>\n",
              "  </tbody>\n",
              "</table>\n",
              "</div>\n",
              "      <button class=\"colab-df-convert\" onclick=\"convertToInteractive('df-6ff1bd75-cbe1-440d-82a7-2f88904696af')\"\n",
              "              title=\"Convert this dataframe to an interactive table.\"\n",
              "              style=\"display:none;\">\n",
              "        \n",
              "  <svg xmlns=\"http://www.w3.org/2000/svg\" height=\"24px\"viewBox=\"0 0 24 24\"\n",
              "       width=\"24px\">\n",
              "    <path d=\"M0 0h24v24H0V0z\" fill=\"none\"/>\n",
              "    <path d=\"M18.56 5.44l.94 2.06.94-2.06 2.06-.94-2.06-.94-.94-2.06-.94 2.06-2.06.94zm-11 1L8.5 8.5l.94-2.06 2.06-.94-2.06-.94L8.5 2.5l-.94 2.06-2.06.94zm10 10l.94 2.06.94-2.06 2.06-.94-2.06-.94-.94-2.06-.94 2.06-2.06.94z\"/><path d=\"M17.41 7.96l-1.37-1.37c-.4-.4-.92-.59-1.43-.59-.52 0-1.04.2-1.43.59L10.3 9.45l-7.72 7.72c-.78.78-.78 2.05 0 2.83L4 21.41c.39.39.9.59 1.41.59.51 0 1.02-.2 1.41-.59l7.78-7.78 2.81-2.81c.8-.78.8-2.07 0-2.86zM5.41 20L4 18.59l7.72-7.72 1.47 1.35L5.41 20z\"/>\n",
              "  </svg>\n",
              "      </button>\n",
              "      \n",
              "  <style>\n",
              "    .colab-df-container {\n",
              "      display:flex;\n",
              "      flex-wrap:wrap;\n",
              "      gap: 12px;\n",
              "    }\n",
              "\n",
              "    .colab-df-convert {\n",
              "      background-color: #E8F0FE;\n",
              "      border: none;\n",
              "      border-radius: 50%;\n",
              "      cursor: pointer;\n",
              "      display: none;\n",
              "      fill: #1967D2;\n",
              "      height: 32px;\n",
              "      padding: 0 0 0 0;\n",
              "      width: 32px;\n",
              "    }\n",
              "\n",
              "    .colab-df-convert:hover {\n",
              "      background-color: #E2EBFA;\n",
              "      box-shadow: 0px 1px 2px rgba(60, 64, 67, 0.3), 0px 1px 3px 1px rgba(60, 64, 67, 0.15);\n",
              "      fill: #174EA6;\n",
              "    }\n",
              "\n",
              "    [theme=dark] .colab-df-convert {\n",
              "      background-color: #3B4455;\n",
              "      fill: #D2E3FC;\n",
              "    }\n",
              "\n",
              "    [theme=dark] .colab-df-convert:hover {\n",
              "      background-color: #434B5C;\n",
              "      box-shadow: 0px 1px 3px 1px rgba(0, 0, 0, 0.15);\n",
              "      filter: drop-shadow(0px 1px 2px rgba(0, 0, 0, 0.3));\n",
              "      fill: #FFFFFF;\n",
              "    }\n",
              "  </style>\n",
              "\n",
              "      <script>\n",
              "        const buttonEl =\n",
              "          document.querySelector('#df-6ff1bd75-cbe1-440d-82a7-2f88904696af button.colab-df-convert');\n",
              "        buttonEl.style.display =\n",
              "          google.colab.kernel.accessAllowed ? 'block' : 'none';\n",
              "\n",
              "        async function convertToInteractive(key) {\n",
              "          const element = document.querySelector('#df-6ff1bd75-cbe1-440d-82a7-2f88904696af');\n",
              "          const dataTable =\n",
              "            await google.colab.kernel.invokeFunction('convertToInteractive',\n",
              "                                                     [key], {});\n",
              "          if (!dataTable) return;\n",
              "\n",
              "          const docLinkHtml = 'Like what you see? Visit the ' +\n",
              "            '<a target=\"_blank\" href=https://colab.research.google.com/notebooks/data_table.ipynb>data table notebook</a>'\n",
              "            + ' to learn more about interactive tables.';\n",
              "          element.innerHTML = '';\n",
              "          dataTable['output_type'] = 'display_data';\n",
              "          await google.colab.output.renderOutput(dataTable, element);\n",
              "          const docLink = document.createElement('div');\n",
              "          docLink.innerHTML = docLinkHtml;\n",
              "          element.appendChild(docLink);\n",
              "        }\n",
              "      </script>\n",
              "    </div>\n",
              "  </div>\n",
              "  "
            ]
          },
          "metadata": {},
          "execution_count": 70
        }
      ]
    },
    {
      "cell_type": "code",
      "source": [
        "plt.rcParams[\"figure.figsize\"] = (30,10)\n",
        "plt.bar(inflationdffixed.index, inflationdffixed['Value'], width = 100, color = \"blue\")\n",
        "\n",
        "plt.show()\n"
      ],
      "metadata": {
        "colab": {
          "base_uri": "https://localhost:8080/",
          "height": 518
        },
        "id": "KjoC8EnlD9cQ",
        "outputId": "cb3ea9dd-7fa0-44da-d54b-43b55b2cb7f5"
      },
      "execution_count": null,
      "outputs": [
        {
          "output_type": "display_data",
          "data": {
            "text/plain": [
              "<Figure size 2160x720 with 1 Axes>"
            ],
            "image/png": "[encoded data removed]"
          },
          "metadata": {}
        }
      ]
    },
    {
      "cell_type": "markdown",
      "source": [
        "Trying to make a graph with alternate approach, highlighting previous recessions"
      ],
      "metadata": {
        "id": "yQ-J92dPWoDI"
      }
    },
    {
      "cell_type": "code",
      "source": [
        "plt.style.use('ggplot')\n",
        "fig, ax = plt.subplots(figsize = (20,10))\n",
        "ax.bar(inflationdffixed.index,inflationdffixed['Value'], color = 'blue', width =100)\n",
        "ax.axvspan(date2num(dt.datetime(1960,4,1)), date2num(dt.datetime(1961,7,1)), color = \"red\", alpha = 0.3, label = \"Recession of 1960\")\n",
        "ax.axvspan(date2num(dt.datetime(1981,1,1)), date2num(dt.datetime(1982,1,1)), color = \"green\", alpha = 0.3, label = \"Recession of 1981\")\n",
        "ax.axvspan(date2num(dt.datetime(1990,7,1)), date2num(dt.datetime(1991,10,1)), color = \"orange\", alpha = 0.3, label = \"Recession of 1990\")\n",
        "ax.axvspan(date2num(dt.datetime(2007,12,1)), date2num(dt.datetime(2009,4,1)), color = \"black\", alpha = 0.3, label = \"Great Recession\")\n",
        "\n",
        "ax.set_ylabel('Change in Inflation(CPI)')\n",
        "ax.set_title('Change in Inflation as measured by the consumer price index in the US over time', size =20)\n",
        "ax.legend()\n",
        "\n"
      ],
      "metadata": {
        "colab": {
          "base_uri": "https://localhost:8080/",
          "height": 629
        },
        "id": "JrEHZGMWWq_V",
        "outputId": "cdb22a02-eef7-4090-f809-b51b219e18bb"
      },
      "execution_count": null,
      "outputs": [
        {
          "output_type": "execute_result",
          "data": {
            "text/plain": [
              "<matplotlib.legend.Legend at 0x7f6b309585d0>"
            ]
          },
          "metadata": {},
          "execution_count": 72
        },
        {
          "output_type": "display_data",
          "data": {
            "text/plain": [
              "<Figure size 1440x720 with 1 Axes>"
            ],
            "image/png": "[encoded data removed]"
          },
          "metadata": {}
        }
      ]
    },
    {
      "cell_type": "markdown",
      "source": [
        "Subsetting for recession of 1960 Adding a column for elapsed time"
      ],
      "metadata": {
        "id": "73gJNRgzzfnR"
      }
    },
    {
      "cell_type": "code",
      "source": [
        "inflation1960 = inflationdffixed['1960-04' : '1961-07']\n",
        "averageInflation1960 = inflation1960['Value'].mean()\n",
        "print(inflation1960)"
      ],
      "metadata": {
        "colab": {
          "base_uri": "https://localhost:8080/"
        },
        "id": "MrslSokfzdg-",
        "outputId": "396cb10d-ddde-4a85-a587-46f94ed22c06"
      },
      "execution_count": null,
      "outputs": [
        {
          "output_type": "stream",
          "name": "stdout",
          "text": [
            "                 TIME     Value\n",
            "1960-04-01 1960-04-01  1.724138\n",
            "1960-05-01 1960-05-01  1.724138\n",
            "1960-06-01 1960-06-01  1.718213\n",
            "1960-07-01 1960-07-01  1.369863\n",
            "1960-08-01 1960-08-01  1.369863\n",
            "1960-09-01 1960-09-01  1.023891\n",
            "1960-10-01 1960-10-01  1.360544\n",
            "1960-11-01 1960-11-01  1.360544\n",
            "1960-12-01 1960-12-01  1.360544\n",
            "1961-01-01 1961-01-01  1.706485\n",
            "1961-02-01 1961-02-01  1.360544\n",
            "1961-03-01 1961-03-01  1.360544\n",
            "1961-04-01 1961-04-01  1.016949\n",
            "1961-05-01 1961-05-01  1.016949\n",
            "1961-06-01 1961-06-01  0.675676\n",
            "1961-07-01 1961-07-01  1.351351\n"
          ]
        }
      ]
    },
    {
      "cell_type": "markdown",
      "source": [
        "Subsetting for Recession of 1981"
      ],
      "metadata": {
        "id": "kBC8XsEV2Sip"
      }
    },
    {
      "cell_type": "code",
      "source": [
        "inflation1981 = inflationdffixed[\"1981-07-01\" : \"1982-10-01\"]\n",
        "averageInflation1981 = inflation1981['Value'].mean()\n",
        "print(inflation1981)"
      ],
      "metadata": {
        "id": "hEnbzmaf2YeA",
        "colab": {
          "base_uri": "https://localhost:8080/"
        },
        "outputId": "4deb8674-6f19-482d-dec6-47764d0698f4"
      },
      "execution_count": null,
      "outputs": [
        {
          "output_type": "stream",
          "name": "stdout",
          "text": [
            "                 TIME      Value\n",
            "1981-07-01 1981-07-01  10.761790\n",
            "1981-08-01 1981-08-01  10.804320\n",
            "1981-09-01 1981-09-01  10.952380\n",
            "1981-10-01 1981-10-01  10.141510\n",
            "1981-11-01 1981-11-01   9.590643\n",
            "1981-12-01 1981-12-01   8.922364\n",
            "1982-01-01 1982-01-01   8.390804\n",
            "1982-02-01 1982-02-01   7.622298\n",
            "1982-03-01 1982-03-01   6.779661\n",
            "1982-04-01 1982-04-01   6.509540\n",
            "1982-05-01 1982-05-01   6.681514\n",
            "1982-06-01 1982-06-01   7.064018\n",
            "1982-07-01 1982-07-01   6.441048\n",
            "1982-08-01 1982-08-01   5.850488\n",
            "1982-09-01 1982-09-01   5.042919\n",
            "1982-10-01 1982-10-01   5.139186\n"
          ]
        }
      ]
    },
    {
      "cell_type": "markdown",
      "source": [
        "Subsetting for Recession of 1990"
      ],
      "metadata": {
        "id": "NoLEN5g63ikQ"
      }
    },
    {
      "cell_type": "code",
      "source": [
        "inflation1990 = inflationdffixed[\"1990-07-01\" : \"1991-10-01\"]\n",
        "averageInflation1990 = inflation1990['Value'].mean()\n",
        "print(inflation1990)"
      ],
      "metadata": {
        "id": "_PNrPqn53mGk",
        "colab": {
          "base_uri": "https://localhost:8080/"
        },
        "outputId": "62fda417-fae6-4d0c-e581-835cdaa3888c"
      },
      "execution_count": null,
      "outputs": [
        {
          "output_type": "stream",
          "name": "stdout",
          "text": [
            "                 TIME     Value\n",
            "1990-07-01 1990-07-01  4.823151\n",
            "1990-08-01 1990-08-01  5.617978\n",
            "1990-09-01 1990-09-01  6.160000\n",
            "1990-10-01 1990-10-01  6.289809\n",
            "1990-11-01 1990-11-01  6.274821\n",
            "1990-12-01 1990-12-01  6.106265\n",
            "1991-01-01 1991-01-01  5.651491\n",
            "1991-02-01 1991-02-01  5.312500\n",
            "1991-03-01 1991-03-01  4.895105\n",
            "1991-04-01 1991-04-01  4.887510\n",
            "1991-05-01 1991-05-01  4.953560\n",
            "1991-06-01 1991-06-01  4.695920\n",
            "1991-07-01 1991-07-01  4.447853\n",
            "1991-08-01 1991-08-01  3.799392\n",
            "1991-09-01 1991-09-01  3.391108\n",
            "1991-10-01 1991-10-01  2.921348\n"
          ]
        }
      ]
    },
    {
      "cell_type": "markdown",
      "source": [
        "Subsetting for Great Recession"
      ],
      "metadata": {
        "id": "QkDuI69q3-bR"
      }
    },
    {
      "cell_type": "code",
      "source": [
        "inflation2007 = inflationdffixed[\"2008-01-01\" : \"2009-04-01\"]\n",
        "averageInflation2007 = inflation2007['Value'].mean()\n",
        "print(inflation2007)"
      ],
      "metadata": {
        "id": "tkfEhdkn3_Y9",
        "colab": {
          "base_uri": "https://localhost:8080/"
        },
        "outputId": "cad3e55c-24ee-4ae8-f2a7-ace0ef55c26e"
      },
      "execution_count": null,
      "outputs": [
        {
          "output_type": "stream",
          "name": "stdout",
          "text": [
            "                 TIME     Value\n",
            "2008-01-01 2008-01-01  4.280294\n",
            "2008-02-01 2008-02-01  4.026556\n",
            "2008-03-01 2008-03-01  3.981456\n",
            "2008-04-01 2008-04-01  3.936890\n",
            "2008-05-01 2008-05-01  4.175543\n",
            "2008-06-01 2008-06-01  5.021790\n",
            "2008-07-01 2008-07-01  5.600123\n",
            "2008-08-01 2008-08-01  5.371855\n",
            "2008-09-01 2008-09-01  4.936927\n",
            "2008-10-01 2008-10-01  3.655186\n",
            "2008-11-01 2008-11-01  1.069575\n",
            "2008-12-01 2008-12-01  0.091413\n",
            "2009-01-01 2009-01-01  0.029847\n",
            "2009-02-01 2009-02-01  0.236191\n",
            "2009-03-01 2009-03-01 -0.383556\n",
            "2009-04-01 2009-04-01 -0.736886\n"
          ]
        }
      ]
    },
    {
      "cell_type": "markdown",
      "source": [
        "Subsetting for current time"
      ],
      "metadata": {
        "id": "_Zijsjga62Tg"
      }
    },
    {
      "cell_type": "code",
      "source": [
        "inflationCurrent = inflationdffixed[\"2021-01-01\" : \"2022-04-01\"]\n",
        "averageInflationCurrent = inflationCurrent['Value'].mean()\n",
        "print(inflationCurrent)"
      ],
      "metadata": {
        "id": "2ofMWpH3631N",
        "colab": {
          "base_uri": "https://localhost:8080/"
        },
        "outputId": "45418302-232a-41d9-aae0-1963738da97f"
      },
      "execution_count": null,
      "outputs": [
        {
          "output_type": "stream",
          "name": "stdout",
          "text": [
            "                 TIME     Value\n",
            "2021-01-01 2021-01-01  1.399770\n",
            "2021-02-01 2021-02-01  1.676215\n",
            "2021-03-01 2021-03-01  2.619762\n",
            "2021-04-01 2021-04-01  4.159695\n",
            "2021-05-01 2021-05-01  4.992707\n",
            "2021-06-01 2021-06-01  5.391451\n",
            "2021-07-01 2021-07-01  5.365475\n",
            "2021-08-01 2021-08-01  5.251272\n",
            "2021-09-01 2021-09-01  5.390349\n",
            "2021-10-01 2021-10-01  6.221869\n",
            "2021-11-01 2021-11-01  6.809003\n",
            "2021-12-01 2021-12-01  7.036403\n",
            "2022-01-01 2022-01-01  7.479873\n",
            "2022-02-01 2022-02-01  7.871064\n",
            "2022-03-01 2022-03-01  8.542456\n",
            "2022-04-01 2022-04-01  8.258630\n"
          ]
        }
      ]
    },
    {
      "cell_type": "markdown",
      "source": [
        "Calculating Percent Change from baseline"
      ],
      "metadata": {
        "id": "baQ9-Zvm7mCM"
      }
    },
    {
      "cell_type": "code",
      "source": [
        "averageInflationList = [averageInflation1960, averageInflation1981, averageInflation1990, averageInflation2007, averageInflationCurrent]\n",
        "print(averageInflationList)"
      ],
      "metadata": {
        "id": "kvo5g5nE4b1Y",
        "colab": {
          "base_uri": "https://localhost:8080/"
        },
        "outputId": "d02ddb13-513d-4722-aef3-8fc9f8aa0db2"
      },
      "execution_count": null,
      "outputs": [
        {
          "output_type": "stream",
          "name": "stdout",
          "text": [
            "[1.34376473125, 7.9184051875, 5.0142381875, 2.830825225, 5.529124625]\n"
          ]
        }
      ]
    },
    {
      "cell_type": "markdown",
      "source": [
        "Creating an average inflation change from previous recessions"
      ],
      "metadata": {
        "id": "qPGSO6Jy5NQb"
      }
    },
    {
      "cell_type": "code",
      "source": [
        "rowNames = [\"2021-2022\", \"Great Recession 2007\" ,  'Recession 1990', 'Recession 1981', 'Recession 1960']\n",
        "rowNames.reverse()\n",
        "inflationdf2 = pd.DataFrame(averageInflationList)\n",
        "inflationdf2.index = rowNames\n",
        "inflationdf2.columns = ['Mean Inflation']\n",
        "print(inflationdf2)"
      ],
      "metadata": {
        "id": "y0rj3J7x5TOS",
        "colab": {
          "base_uri": "https://localhost:8080/"
        },
        "outputId": "f80368e4-694d-4b98-81fa-ce66c278855e"
      },
      "execution_count": null,
      "outputs": [
        {
          "output_type": "stream",
          "name": "stdout",
          "text": [
            "                      Mean Inflation\n",
            "Recession 1960              1.343765\n",
            "Recession 1981              7.918405\n",
            "Recession 1990              5.014238\n",
            "Great Recession 2007        2.830825\n",
            "2021-2022                   5.529125\n"
          ]
        }
      ]
    },
    {
      "cell_type": "markdown",
      "source": [
        "Creating Bar Graph of Inflation"
      ],
      "metadata": {
        "id": "D9fittTU6I2F"
      }
    },
    {
      "cell_type": "code",
      "source": [
        "plt.style.use('ggplot')\n",
        "plt.rcParams[\"figure.figsize\"] = (15,8)\n",
        "inflationdf2.plot.bar(use_index = True, y = \"Mean Inflation\", color = [\"#003f5c\", \"#444e86\", \"#955196\", \"#dd5182\", \"#ff6e54\", \"#ffa600\"], legend = False, \n",
        "                  title = 'Mean Inflation data from 4 previous recessions compared to 2022' )\n",
        "plt.xticks(rotation = 0, fontsize = 10, fontweight = 'bold')\n",
        "plt.ylabel('Mean Inflation Change from Prerecession Baseline', fontweight = 'bold')\n",
        "plt.yticks(fontsize = 10, fontweight = 'bold')\n",
        "plt.show()"
      ],
      "metadata": {
        "id": "fBtOxZxV6N2q",
        "colab": {
          "base_uri": "https://localhost:8080/",
          "height": 500
        },
        "outputId": "34e5031b-9ed3-47de-fae4-314b5c9dc1f5"
      },
      "execution_count": null,
      "outputs": [
        {
          "output_type": "display_data",
          "data": {
            "text/plain": [
              "<Figure size 1080x576 with 1 Axes>"
            ],
            "image/png": "[encoded data removed]"
          },
          "metadata": {}
        }
      ]
    },
    {
      "cell_type": "markdown",
      "source": [
        "# Analyzing Changes in Interest Rate"
      ],
      "metadata": {
        "id": "DKeG1XSnwkYq"
      }
    },
    {
      "cell_type": "code",
      "source": [
        "interestdf = pd.read_csv(r\"/content/drive/MyDrive/Data Analysis/FEDFUNDS.csv\", parse_dates = ['DATE'])\n",
        "print(interestdf)"
      ],
      "metadata": {
        "id": "1ePV6-tdwpup",
        "colab": {
          "base_uri": "https://localhost:8080/"
        },
        "outputId": "8af5f4fa-9bd0-4395-87a4-e497379b8170"
      },
      "execution_count": null,
      "outputs": [
        {
          "output_type": "stream",
          "name": "stdout",
          "text": [
            "          DATE  FEDFUNDS\n",
            "0   1954-07-01      0.80\n",
            "1   1954-08-01      1.22\n",
            "2   1954-09-01      1.07\n",
            "3   1954-10-01      0.85\n",
            "4   1954-11-01      0.83\n",
            "..         ...       ...\n",
            "815 2022-06-01      1.21\n",
            "816 2022-07-01      1.68\n",
            "817 2022-08-01      2.33\n",
            "818 2022-09-01      2.56\n",
            "819 2022-10-01      3.08\n",
            "\n",
            "[820 rows x 2 columns]\n"
          ]
        }
      ]
    },
    {
      "cell_type": "markdown",
      "source": [
        "Drop the last row to match the tail of the inflation data"
      ],
      "metadata": {
        "id": "aRuP5rSi2nS9"
      }
    },
    {
      "cell_type": "code",
      "source": [
        "interestdf.drop(interestdf.tail(1).index, inplace = True)\n",
        "print(interestdf.tail())"
      ],
      "metadata": {
        "colab": {
          "base_uri": "https://localhost:8080/"
        },
        "id": "eUVmLtOm2ruC",
        "outputId": "605c7a3f-49e2-4f79-bc63-a443590138fb"
      },
      "execution_count": null,
      "outputs": [
        {
          "output_type": "stream",
          "name": "stdout",
          "text": [
            "          DATE  FEDFUNDS\n",
            "814 2022-05-01      0.77\n",
            "815 2022-06-01      1.21\n",
            "816 2022-07-01      1.68\n",
            "817 2022-08-01      2.33\n",
            "818 2022-09-01      2.56\n"
          ]
        }
      ]
    },
    {
      "cell_type": "markdown",
      "source": [
        "Trimming the data set to make the date ranges match the inflation df"
      ],
      "metadata": {
        "id": "u1GyIccN0ZWl"
      }
    },
    {
      "cell_type": "code",
      "source": [
        "interestdf = interestdf[20:]\n",
        "print (interestdf.head())"
      ],
      "metadata": {
        "colab": {
          "base_uri": "https://localhost:8080/"
        },
        "id": "kJsOmNM40cPw",
        "outputId": "4f6c0090-b3a0-4654-fce1-36d56ad40451"
      },
      "execution_count": null,
      "outputs": [
        {
          "output_type": "stream",
          "name": "stdout",
          "text": [
            "         DATE  FEDFUNDS\n",
            "20 1956-03-01      2.50\n",
            "21 1956-04-01      2.62\n",
            "22 1956-05-01      2.75\n",
            "23 1956-06-01      2.71\n",
            "24 1956-07-01      2.75\n"
          ]
        }
      ]
    },
    {
      "cell_type": "markdown",
      "source": [
        "Setting the index to date object. Now inflation and interest rate are heterogenous "
      ],
      "metadata": {
        "id": "aMCD9Uur1JP_"
      }
    },
    {
      "cell_type": "code",
      "source": [
        "interestdf.index = indexList\n",
        "print(interestdf)"
      ],
      "metadata": {
        "colab": {
          "base_uri": "https://localhost:8080/"
        },
        "id": "pGCYwHib1Y_a",
        "outputId": "f7640ec8-852e-49ed-aa80-f334c1819340"
      },
      "execution_count": null,
      "outputs": [
        {
          "output_type": "stream",
          "name": "stdout",
          "text": [
            "                 DATE  FEDFUNDS\n",
            "1956-03-01 1956-03-01      2.50\n",
            "1956-04-01 1956-04-01      2.62\n",
            "1956-05-01 1956-05-01      2.75\n",
            "1956-06-01 1956-06-01      2.71\n",
            "1956-07-01 1956-07-01      2.75\n",
            "...               ...       ...\n",
            "2022-05-01 2022-05-01      0.77\n",
            "2022-06-01 2022-06-01      1.21\n",
            "2022-07-01 2022-07-01      1.68\n",
            "2022-08-01 2022-08-01      2.33\n",
            "2022-09-01 2022-09-01      2.56\n",
            "\n",
            "[799 rows x 2 columns]\n"
          ]
        }
      ]
    },
    {
      "cell_type": "markdown",
      "source": [
        "Extracting FEDFUNS to add to inflation df"
      ],
      "metadata": {
        "id": "tzBteYAo4KCV"
      }
    },
    {
      "cell_type": "code",
      "source": [
        "FEDFUNDS = interestdf['FEDFUNDS']\n",
        "print(FEDFUNDS)"
      ],
      "metadata": {
        "colab": {
          "base_uri": "https://localhost:8080/"
        },
        "id": "DnHLqiqr4MXA",
        "outputId": "c4950fbc-5870-4c9e-f6d5-2563306ede56"
      },
      "execution_count": null,
      "outputs": [
        {
          "output_type": "stream",
          "name": "stdout",
          "text": [
            "1956-03-01    2.50\n",
            "1956-04-01    2.62\n",
            "1956-05-01    2.75\n",
            "1956-06-01    2.71\n",
            "1956-07-01    2.75\n",
            "              ... \n",
            "2022-05-01    0.77\n",
            "2022-06-01    1.21\n",
            "2022-07-01    1.68\n",
            "2022-08-01    2.33\n",
            "2022-09-01    2.56\n",
            "Name: FEDFUNDS, Length: 799, dtype: float64\n"
          ]
        }
      ]
    },
    {
      "cell_type": "markdown",
      "source": [
        "Add this into inflation"
      ],
      "metadata": {
        "id": "QO4tZXJJ4bPA"
      }
    },
    {
      "cell_type": "code",
      "source": [
        "inflationdffixed = inflationdffixed.join(FEDFUNDS)\n",
        "print(inflationdffixed.tail(21))"
      ],
      "metadata": {
        "colab": {
          "base_uri": "https://localhost:8080/"
        },
        "id": "tlxvuhH34c56",
        "outputId": "b178fb4a-2e26-429f-ac8a-72362dba660d"
      },
      "execution_count": null,
      "outputs": [
        {
          "output_type": "stream",
          "name": "stdout",
          "text": [
            "                 TIME     Value  FEDFUNDS\n",
            "2021-01-01 2021-01-01  1.399770      0.09\n",
            "2021-02-01 2021-02-01  1.676215      0.08\n",
            "2021-03-01 2021-03-01  2.619762      0.07\n",
            "2021-04-01 2021-04-01  4.159695      0.07\n",
            "2021-05-01 2021-05-01  4.992707      0.06\n",
            "2021-06-01 2021-06-01  5.391451      0.08\n",
            "2021-07-01 2021-07-01  5.365475      0.10\n",
            "2021-08-01 2021-08-01  5.251272      0.09\n",
            "2021-09-01 2021-09-01  5.390349      0.08\n",
            "2021-10-01 2021-10-01  6.221869      0.08\n",
            "2021-11-01 2021-11-01  6.809003      0.08\n",
            "2021-12-01 2021-12-01  7.036403      0.08\n",
            "2022-01-01 2022-01-01  7.479873      0.08\n",
            "2022-02-01 2022-02-01  7.871064      0.08\n",
            "2022-03-01 2022-03-01  8.542456      0.20\n",
            "2022-04-01 2022-04-01  8.258630      0.33\n",
            "2022-05-01 2022-05-01  8.581511      0.77\n",
            "2022-06-01 2022-06-01  9.059758      1.21\n",
            "2022-07-01 2022-07-01  8.524815      1.68\n",
            "2022-08-01 2022-08-01  8.262692      2.33\n",
            "2022-09-01 2022-09-01  8.201670      2.56\n"
          ]
        }
      ]
    },
    {
      "cell_type": "markdown",
      "source": [
        "Creating a graph showing inflation as bars and interest rates as lines"
      ],
      "metadata": {
        "id": "y9C6oKBj5XG5"
      }
    },
    {
      "cell_type": "code",
      "source": [
        "plt.style.use('default')\n",
        "fig, ax = plt.subplots(figsize = (20,10))\n",
        "ax.bar(inflationdffixed.index,inflationdffixed['Value'], color = 'blue', width =100)\n",
        "ax.axvspan(date2num(dt.datetime(1960,4,1)), date2num(dt.datetime(1961,7,1)), color = \"red\", alpha = 0.3, label = \"Recession of 1960\")\n",
        "ax.axvspan(date2num(dt.datetime(1981,1,1)), date2num(dt.datetime(1982,1,1)), color = \"green\", alpha = 0.3, label = \"Recession of 1981\")\n",
        "ax.axvspan(date2num(dt.datetime(1990,7,1)), date2num(dt.datetime(1991,10,1)), color = \"orange\", alpha = 0.3, label = \"Recession of 1990\")\n",
        "ax.axvspan(date2num(dt.datetime(2007,12,1)), date2num(dt.datetime(2009,4,1)), color = \"black\", alpha = 0.3, label = \"Great Recession\")\n",
        "ax2 = ax.twinx()\n",
        "\n",
        "ax2.plot(inflationdffixed['FEDFUNDS'], label = 'Interest Rate', color = \"red\")\n",
        "ax.set_ylim(bottom = 0)\n",
        "ax2.set_ylim(bottom = 0)\n",
        "ax2.set_ylabel(\"Change in Interest Rate\")\n",
        "ax.set_ylabel('Change in Inflation(CPI)')\n",
        "ax.set_title('Comparing Inflation vs Interest Rates in the US Over Time', size =20)\n",
        "ax.legend(loc = 'upper left')\n",
        "ax2.legend(loc = 'upper right')"
      ],
      "metadata": {
        "colab": {
          "base_uri": "https://localhost:8080/",
          "height": 788
        },
        "id": "0pn5iw2d5any",
        "outputId": "0e3af089-ae91-478a-8efe-520b2535dee7"
      },
      "execution_count": null,
      "outputs": [
        {
          "output_type": "execute_result",
          "data": {
            "text/plain": [
              "<matplotlib.legend.Legend at 0x7f6b32ad2d10>"
            ]
          },
          "metadata": {},
          "execution_count": 87
        },
        {
          "output_type": "display_data",
          "data": {
            "text/plain": [
              "<Figure size 2000x1000 with 2 Axes>"
            ],
            "image/png": "[encoded data removed]"
          },
          "metadata": {}
        }
      ]
    },
    {
      "cell_type": "markdown",
      "source": [
        "Finding correrlation between inflation and interest rates"
      ],
      "metadata": {
        "id": "6eqZ4Xg2AglY"
      }
    },
    {
      "cell_type": "code",
      "source": [
        "correlation = inflationdffixed['Value'].corr(inflationdffixed['FEDFUNDS'])\n",
        "print(correlation)"
      ],
      "metadata": {
        "colab": {
          "base_uri": "https://localhost:8080/"
        },
        "id": "QaTiwB-xAufC",
        "outputId": "71928e58-eac7-4ec8-decd-781850790448"
      },
      "execution_count": null,
      "outputs": [
        {
          "output_type": "stream",
          "name": "stdout",
          "text": [
            "0.7075940412239726\n"
          ]
        }
      ]
    },
    {
      "cell_type": "markdown",
      "source": [
        "Plotting correrlation"
      ],
      "metadata": {
        "id": "PW7iiM5wDMcw"
      }
    },
    {
      "cell_type": "code",
      "source": [
        "correlationplot = sns.regplot(x = inflationdffixed['FEDFUNDS'], y = inflationdffixed['Value']).set(title = \"Correlation between inflation and inflation\", xlabel = \"Interest Rate\", ylabel = \"Inflation\")\n",
        "plt.text(15, -1,\"r = 0.708\", weight = 'bold')\n"
      ],
      "metadata": {
        "colab": {
          "base_uri": "https://localhost:8080/",
          "height": 489
        },
        "id": "06npfmpODPok",
        "outputId": "e0a254c9-e965-4244-8d0e-455bb25618a9"
      },
      "execution_count": null,
      "outputs": [
        {
          "output_type": "execute_result",
          "data": {
            "text/plain": [
              "Text(15, -1, 'r = 0.708')"
            ]
          },
          "metadata": {},
          "execution_count": 92
        },
        {
          "output_type": "display_data",
          "data": {
            "text/plain": [
              "<Figure size 640x480 with 1 Axes>"
            ],
            "image/png": "[encoded data removed]"
          },
          "metadata": {}
        }
      ]
    }
  ]
}