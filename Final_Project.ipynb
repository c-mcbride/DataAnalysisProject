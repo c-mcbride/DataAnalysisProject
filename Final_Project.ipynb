{
  "nbformat": 4,
  "nbformat_minor": 0,
  "metadata": {
    "colab": {
      "provenance": [],
      "collapsed_sections": [],
      "toc_visible": true
    },
    "kernelspec": {
      "name": "python3",
      "display_name": "Python 3"
    },
    "language_info": {
      "name": "python"
    }
  },
  "cells": [
    {
      "cell_type": "code",
      "execution_count": null,
      "metadata": {
        "id": "QL4-FpCWafi9"
      },
      "outputs": [],
      "source": [
        "import pandas as pd\n",
        "import matplotlib.pyplot as plt"
      ]
    },
    {
      "cell_type": "markdown",
      "source": [
        "# Importing and Analyzing FRED Unemployment Data"
      ],
      "metadata": {
        "id": "QEiKVZ49a0DU"
      }
    },
    {
      "cell_type": "code",
      "source": [
        "df = pd.read_csv(r\"/content/drive/MyDrive/UNRATE.csv\")\n",
        "print(df)"
      ],
      "metadata": {
        "id": "QDQchat7bZgb"
      },
      "execution_count": null,
      "outputs": []
    },
    {
      "cell_type": "markdown",
      "source": [
        "Checking the types of the variables"
      ],
      "metadata": {
        "id": "c1YZmkcCbwQW"
      }
    },
    {
      "cell_type": "code",
      "source": [
        "df.dtypes"
      ],
      "metadata": {
        "id": "mK1jdOwPbyK6"
      },
      "execution_count": null,
      "outputs": []
    },
    {
      "cell_type": "markdown",
      "source": [
        "Changing the dates to date objects"
      ],
      "metadata": {
        "id": "g8y9PBaBb0v8"
      }
    },
    {
      "cell_type": "code",
      "source": [
        "df['Date'] = pd.to_datetime(df['DATE'])\n",
        "del df['DATE']\n",
        "df.dtypes"
      ],
      "metadata": {
        "id": "Z54Ur_qMb2xh"
      },
      "execution_count": null,
      "outputs": []
    },
    {
      "cell_type": "markdown",
      "source": [
        "Changing the index of the data frame to include newly created date time objects"
      ],
      "metadata": {
        "id": "PPAKKPG6cEE8"
      }
    },
    {
      "cell_type": "code",
      "source": [
        "indexList = list(df['Date'])\n",
        "del df['Date']\n",
        "df.index = indexList\n",
        "print(df)"
      ],
      "metadata": {
        "id": "rPZWsajbcF3j"
      },
      "execution_count": null,
      "outputs": []
    },
    {
      "cell_type": "markdown",
      "source": [
        "Create Time Series Graph from Data"
      ],
      "metadata": {
        "id": "a_GCAHdIcInH"
      }
    },
    {
      "cell_type": "code",
      "source": [
        "graphTest = df\n",
        "graphTest.plot()"
      ],
      "metadata": {
        "id": "igk8JJIWcKlp"
      },
      "execution_count": null,
      "outputs": []
    },
    {
      "cell_type": "markdown",
      "source": [
        "Subsetting df for specific recessions"
      ],
      "metadata": {
        "id": "H6unnUJKcNY3"
      }
    },
    {
      "cell_type": "code",
      "source": [
        "recession1953 =  df['1953-07-01':'1954-05-01']\n",
        "averageUnemployment1953 = recession1953['UNRATE'].mean()\n",
        "print(averageUnemployment1953)"
      ],
      "metadata": {
        "id": "tAPSZTojcO5-"
      },
      "execution_count": null,
      "outputs": []
    },
    {
      "cell_type": "markdown",
      "source": [
        "Recession of 1960 Subset"
      ],
      "metadata": {
        "id": "C-THrr6dcUVh"
      }
    },
    {
      "cell_type": "code",
      "source": [
        "recession1960 = df[\"1960-04-01\" : '1961-02-01']\n",
        "averageUnemployment1960 = recession1960['UNRATE'].mean()\n",
        "print(averageUnemployment1960)"
      ],
      "metadata": {
        "id": "RJ0---OzcU0E"
      },
      "execution_count": null,
      "outputs": []
    },
    {
      "cell_type": "markdown",
      "source": [
        "Recession of 1981"
      ],
      "metadata": {
        "id": "ixiYh4omcX5i"
      }
    },
    {
      "cell_type": "code",
      "source": [
        "recession1981 = df[\"1981-07-01\" : '1982-11-01']\n",
        "averageUnemployment1981 = recession1981['UNRATE'].mean()\n",
        "print(averageUnemployment1981)"
      ],
      "metadata": {
        "id": "Da-ymMHMcYR4"
      },
      "execution_count": null,
      "outputs": []
    },
    {
      "cell_type": "markdown",
      "source": [
        "Early 1990s Recession"
      ],
      "metadata": {
        "id": "I_Omda4vcZoF"
      }
    },
    {
      "cell_type": "code",
      "source": [
        "recession1990 = df[\"1990-07-01\": \"1991-03-01\"]\n",
        "averageUnemployment1990 = recession1990['UNRATE'].mean()\n",
        "print(averageUnemployment1990)"
      ],
      "metadata": {
        "id": "PG9vl3iUcbPu"
      },
      "execution_count": null,
      "outputs": []
    },
    {
      "cell_type": "markdown",
      "source": [
        "Great Recession"
      ],
      "metadata": {
        "id": "PgsjE3USccn3"
      }
    },
    {
      "cell_type": "code",
      "source": [
        "recession2007 = df[\"2007-12-01\":\"2009-10-01\"]\n",
        "averageUnempoyment2007 = recession2007['UNRATE'].mean()\n",
        "print(averageUnempoyment2007)"
      ],
      "metadata": {
        "id": "5W20-0zecd35"
      },
      "execution_count": null,
      "outputs": []
    },
    {
      "cell_type": "code",
      "source": [
        "print(recession2007)"
      ],
      "metadata": {
        "id": "Td2FhfXNchWf"
      },
      "execution_count": null,
      "outputs": []
    },
    {
      "cell_type": "markdown",
      "source": [
        "Current Unemployment Data"
      ],
      "metadata": {
        "id": "zvW2Fv2GckJr"
      }
    },
    {
      "cell_type": "code",
      "source": [
        "currentUnemployment = df['2022-01-01' : '2022-09-01']\n",
        "averageUnemployment2022 = currentUnemployment['UNRATE'].mean()\n",
        "print(averageUnemployment2022)"
      ],
      "metadata": {
        "id": "Q0GowFsJcmRW"
      },
      "execution_count": null,
      "outputs": []
    },
    {
      "cell_type": "markdown",
      "source": [
        "Creating a list from recession data"
      ],
      "metadata": {
        "id": "DPgcgwLQcoR8"
      }
    },
    {
      "cell_type": "code",
      "source": [
        "averageUnemploymentList = [averageUnemployment2022, averageUnempoyment2007,averageUnemployment1990,averageUnemployment1981, averageUnemployment1960, averageUnemployment1953 ]\n",
        "averageUnemploymentList.reverse()\n",
        "print(averageUnemploymentList)"
      ],
      "metadata": {
        "id": "8oKRfds9cqmy"
      },
      "execution_count": null,
      "outputs": []
    },
    {
      "cell_type": "markdown",
      "source": [],
      "metadata": {
        "id": "v4qwvlH1VP6U"
      }
    },
    {
      "cell_type": "markdown",
      "source": [
        "Creating an average unemployment data frame from past recessions"
      ],
      "metadata": {
        "id": "UQB_iCtscsJ7"
      }
    },
    {
      "cell_type": "code",
      "source": [
        "rowNames = [\"Current 2022\", \"Great Recession 2007\" ,  'Recession 1990', 'Recession 1981', 'Recession 1960','Recession 1953' ]\n",
        "rowNames.reverse()\n",
        "recession_df = pd.DataFrame(averageUnemploymentList)\n",
        "recession_df.index = rowNames\n",
        "recession_df.columns = ['Mean Unemployment']\n",
        "\n",
        "print(recession_df)"
      ],
      "metadata": {
        "id": "8aeS-D4ictnI"
      },
      "execution_count": null,
      "outputs": []
    },
    {
      "cell_type": "markdown",
      "source": [
        "Creating Bar Graph of Unemployment"
      ],
      "metadata": {
        "id": "PNvxRJfAcu9f"
      }
    },
    {
      "cell_type": "code",
      "source": [
        "plt.style.use('ggplot')\n",
        "plt.rcParams[\"figure.figsize\"] = (15,8)\n",
        "recession_df.plot.bar(use_index = True, y = \"Mean Unemployment\", color = [\"#003f5c\", \"#444e86\", \"#955196\", \"#dd5182\", \"#ff6e54\", \"#ffa600\"], legend = False, \n",
        "                  title = 'Mean unployment data from 5 previous recessions compared to 2022' )\n",
        "\n",
        "plt.xticks(rotation = 0, fontsize = 10, fontweight = 'bold')\n",
        "plt.ylabel('Mean Unemployment Percentage for US Population', fontweight = 'bold')\n",
        "plt.yticks(fontsize = 10, fontweight = 'bold')\n",
        "plt.show()"
      ],
      "metadata": {
        "id": "aUDegBp5cxGs"
      },
      "execution_count": null,
      "outputs": []
    },
    {
      "cell_type": "markdown",
      "source": [
        "# Analyzing Gross Domestic Product "
      ],
      "metadata": {
        "id": "LXxy3pe8TU8e"
      }
    },
    {
      "cell_type": "code",
      "source": [
        "gdpDf= pd.read_csv(r\"/content/drive/MyDrive/GDP.csv\")\n",
        "print(gdpDf)"
      ],
      "metadata": {
        "id": "NXO3kLhPTcCa"
      },
      "execution_count": null,
      "outputs": []
    },
    {
      "cell_type": "markdown",
      "source": [
        "Changing DATE to date objects"
      ],
      "metadata": {
        "id": "6bRkMQ4LUF7o"
      }
    },
    {
      "cell_type": "code",
      "source": [
        "gdpDf['Date'] = pd.to_datetime(gdpDf['DATE'])\n",
        "#del gdpDf['DATE']\n",
        "print(gdpDf)\n"
      ],
      "metadata": {
        "id": "D_uvinj2UJG6"
      },
      "execution_count": null,
      "outputs": []
    },
    {
      "cell_type": "markdown",
      "source": [
        "Create List to Hold Time Interval Labels"
      ],
      "metadata": {
        "id": "PCAwijzlYsCf"
      }
    },
    {
      "cell_type": "code",
      "source": [
        "interval = [0, 92, 184, 274, 365, 457]"
      ],
      "metadata": {
        "id": "DeOj3lYiYu1B"
      },
      "execution_count": null,
      "outputs": []
    },
    {
      "cell_type": "markdown",
      "source": [
        "Changing the index of the data frame to include newly created date objects"
      ],
      "metadata": {
        "id": "9VqsP2BeUop3"
      }
    },
    {
      "cell_type": "code",
      "source": [
        "indexList2 = list(gdpDf['Date'])\n",
        "gdpDf.index = indexList2"
      ],
      "metadata": {
        "id": "tVARVeXizBNB"
      },
      "execution_count": null,
      "outputs": []
    },
    {
      "cell_type": "markdown",
      "source": [
        "Subsetting for Specific Recessions"
      ],
      "metadata": {
        "id": "N_2RnPN6VRFn"
      }
    },
    {
      "cell_type": "code",
      "source": [
        "qRecession1953 = gdpDf['1953-07-01' : '1954-10-01']\n",
        "qRecession1953['Elapsed Time'] = interval\n",
        "print(qRecession1953)\n"
      ],
      "metadata": {
        "id": "-lIOsS6MVTh6"
      },
      "execution_count": null,
      "outputs": []
    },
    {
      "cell_type": "markdown",
      "source": [
        "Creating Periods based on distance from start of recession"
      ],
      "metadata": {
        "id": "-2iwg0LW5Yi0"
      }
    },
    {
      "cell_type": "code",
      "source": [
        "dates = qRecession1953['Date']\n",
        "dates.to_period('D')\n",
        "dates = dates - dates[0]\n",
        "print(dates)\n",
        "#print(qRecession1953)"
      ],
      "metadata": {
        "id": "rzLs9axt5dmV"
      },
      "execution_count": null,
      "outputs": []
    },
    {
      "cell_type": "markdown",
      "source": [
        "Placing period data into dataframe"
      ],
      "metadata": {
        "id": "Y4MdOqdy7YpJ"
      }
    },
    {
      "cell_type": "code",
      "source": [
        "qRecession1953.loc[:,\"Elapsed\"] = dates\n",
        "print(qRecession1953)"
      ],
      "metadata": {
        "id": "qTt3xcR67cmU"
      },
      "execution_count": null,
      "outputs": []
    },
    {
      "cell_type": "markdown",
      "source": [
        "Checking Data type of elapsed days column"
      ],
      "metadata": {
        "id": "3teorkb08JdU"
      }
    },
    {
      "cell_type": "code",
      "source": [
        "qRecession1953['Elapsed'].dtypes"
      ],
      "metadata": {
        "id": "TiP7PexN8NCz"
      },
      "execution_count": null,
      "outputs": []
    },
    {
      "cell_type": "markdown",
      "source": [
        "Setting the newly created periods as index "
      ],
      "metadata": {
        "id": "rj2bVWidF7ib"
      }
    },
    {
      "cell_type": "code",
      "source": [
        "qRecession1953.index = qRecession1953['Elapsed']\n",
        "print(qRecession1953)"
      ],
      "metadata": {
        "id": "jgXbudFvF_v_"
      },
      "execution_count": null,
      "outputs": []
    },
    {
      "cell_type": "markdown",
      "source": [
        "Adding a Recession Column to Describe the specific recession"
      ],
      "metadata": {
        "id": "AVgBRJEiYu8B"
      }
    },
    {
      "cell_type": "code",
      "source": [
        "qRecession1953.loc[:,\"Recession\"] = \"Recession 1953\"\n",
        "print(qRecession1953)"
      ],
      "metadata": {
        "id": "HVcAnBVwY0R9"
      },
      "execution_count": null,
      "outputs": []
    },
    {
      "cell_type": "markdown",
      "source": [
        "Creating a percent change from baseline"
      ],
      "metadata": {
        "id": "VB_5YMwmAxD1"
      }
    },
    {
      "cell_type": "code",
      "source": [
        "start = 391.171\n",
        "\n",
        "qRecession1953['start'] = start\n",
        "qRecession1953['Change from baseline'] = 100 * (qRecession1953.GDP/qRecession1953.start-1)\n",
        "print(qRecession1953)"
      ],
      "metadata": {
        "id": "QZ6nvdaQA2h8"
      },
      "execution_count": null,
      "outputs": []
    },
    {
      "cell_type": "markdown",
      "source": [
        "Subsetting Data Frame to contain the change from baseline indexed by quarter"
      ],
      "metadata": {
        "id": "trmOV0uyoIvb"
      }
    },
    {
      "cell_type": "code",
      "source": [
        "Recession1953 = qRecession1953['Change from baseline']\n",
        "Recession1953['Elapsed Time'] = interval\n",
        "print(Recession1953)"
      ],
      "metadata": {
        "id": "Ot8XlM9B6JgZ"
      },
      "execution_count": null,
      "outputs": []
    },
    {
      "cell_type": "markdown",
      "source": [
        "Subsetting for 1960 Recession"
      ],
      "metadata": {
        "id": "IwwOJt4HZyVZ"
      }
    },
    {
      "cell_type": "code",
      "source": [
        "qRecession1960 = gdpDf['1960-04-01' : '1961-07-01']\n",
        "qRecession1960['Elapsed Time'] = interval\n",
        "print(qRecession1960)"
      ],
      "metadata": {
        "id": "VoNczcDpZ105"
      },
      "execution_count": null,
      "outputs": []
    },
    {
      "cell_type": "markdown",
      "source": [
        "Creating Periods to Represent Elapsed Days Since the start of the recession"
      ],
      "metadata": {
        "id": "h9ShYvo4GuGO"
      }
    },
    {
      "cell_type": "code",
      "source": [
        "dates = qRecession1960['Date']\n",
        "dates.to_period('D')\n",
        "dates = dates - dates[0]\n",
        "print(dates)"
      ],
      "metadata": {
        "id": "76g7n3COG0bM"
      },
      "execution_count": null,
      "outputs": []
    },
    {
      "cell_type": "markdown",
      "source": [
        "Placing elapsed Days into the Data Frame"
      ],
      "metadata": {
        "id": "kNOt9vRJHPIE"
      }
    },
    {
      "cell_type": "code",
      "source": [
        "qRecession1960.loc[:,\"Elapsed Days\"] = dates\n",
        "qRecession1960.index = qRecession1960['Elapsed Days']\n",
        "print(qRecession1960)"
      ],
      "metadata": {
        "id": "tA1Eou-zHaOB"
      },
      "execution_count": null,
      "outputs": []
    },
    {
      "cell_type": "markdown",
      "source": [
        "Organizing by Quarters"
      ],
      "metadata": {
        "id": "IRSeAH1yaK24"
      }
    },
    {
      "cell_type": "code",
      "source": [
        "qRecession1960.loc[:,\"Recession\"] = \"Recession 1960\"\n",
        "print(qRecession1960)"
      ],
      "metadata": {
        "id": "Inz-yrVMaNKj"
      },
      "execution_count": null,
      "outputs": []
    },
    {
      "cell_type": "markdown",
      "source": [
        "Calculating Change From Baseline"
      ],
      "metadata": {
        "id": "-OuXyWmaC83j"
      }
    },
    {
      "cell_type": "code",
      "source": [
        "start = 541.080\n",
        "qRecession1960['start'] = start\n",
        "qRecession1960['Change from baseline'] = 100 * (qRecession1960.GDP/qRecession1960.start-1)\n",
        "print(qRecession1960)"
      ],
      "metadata": {
        "id": "N-0QC_n1C_Ms"
      },
      "execution_count": null,
      "outputs": []
    },
    {
      "cell_type": "code",
      "source": [
        "Recession1960 = qRecession1960['Change from baseline']\n",
        "Recession1960['Elapsed Time'] = interval\n",
        "print(Recession1960)"
      ],
      "metadata": {
        "id": "AdipsO4Q503h"
      },
      "execution_count": null,
      "outputs": []
    },
    {
      "cell_type": "markdown",
      "source": [
        "Subsetting for 1981 Recession"
      ],
      "metadata": {
        "id": "0Oz53WXrqGZL"
      }
    },
    {
      "cell_type": "code",
      "source": [
        "qRecession1981 = gdpDf[\"1981-07-01\" : \"1982-10-01\"]\n",
        "qRecession1981['Elapsed Time'] = interval\n",
        "print(qRecession1981)"
      ],
      "metadata": {
        "id": "RcZAyfjGqMI8"
      },
      "execution_count": null,
      "outputs": []
    },
    {
      "cell_type": "markdown",
      "source": [
        "Create Periods based on data"
      ],
      "metadata": {
        "id": "7bF753jIc-yF"
      }
    },
    {
      "cell_type": "code",
      "source": [
        "dates3 = qRecession1981['Date']\n",
        "dates3.to_period('D')\n",
        "dates3 = dates3 - dates3[0]\n",
        "print(dates3)"
      ],
      "metadata": {
        "id": "O9L7hZoZdC4e"
      },
      "execution_count": null,
      "outputs": []
    },
    {
      "cell_type": "markdown",
      "source": [
        "Place Periods Into DataFrame"
      ],
      "metadata": {
        "id": "SzvZ0DJmrCR-"
      }
    },
    {
      "cell_type": "code",
      "source": [
        "qRecession1981.loc[:,\"Elapsed Days\"] = dates3\n",
        "print(qRecession1981)"
      ],
      "metadata": {
        "id": "7zK72g8ZdyoQ"
      },
      "execution_count": null,
      "outputs": []
    },
    {
      "cell_type": "markdown",
      "source": [
        "Place Periods Into Index"
      ],
      "metadata": {
        "id": "-tO05JAEd-bO"
      }
    },
    {
      "cell_type": "code",
      "source": [
        "qRecession1981.index = qRecession1981['Elapsed Days']\n",
        "print(qRecession1981)"
      ],
      "metadata": {
        "id": "jqxLUqIvd_7k"
      },
      "execution_count": null,
      "outputs": []
    },
    {
      "cell_type": "markdown",
      "source": [
        "Place the name of the recession into the dataframe"
      ],
      "metadata": {
        "id": "KFsXFecJeXOJ"
      }
    },
    {
      "cell_type": "code",
      "source": [
        "qRecession1981.loc[:, \"Recession\"] = \"Recession of 1981\"\n",
        "print(qRecession1981)"
      ],
      "metadata": {
        "id": "dAHeaAWorEGH"
      },
      "execution_count": null,
      "outputs": []
    },
    {
      "cell_type": "markdown",
      "source": [
        "Calculating GDP Change From baseline"
      ],
      "metadata": {
        "id": "osvxDvU2b65s"
      }
    },
    {
      "cell_type": "code",
      "source": [
        "start3 = 3260.609\n",
        "qRecession1981['start'] = start3\n",
        "qRecession1981['Change from baseline'] = 100 * (qRecession1981.GDP/qRecession1981.start - 1 )\n",
        "print(qRecession1981)"
      ],
      "metadata": {
        "id": "adCO-SEReb2y"
      },
      "execution_count": null,
      "outputs": []
    },
    {
      "cell_type": "markdown",
      "source": [
        "Create DataFrame to Hold Period and change from baseline"
      ],
      "metadata": {
        "id": "-LwweImBfQih"
      }
    },
    {
      "cell_type": "code",
      "source": [
        "Recession1981 = qRecession1981['Change from baseline']\n",
        "Recession1981['Elapsed Time'] = interval\n",
        "print(Recession1981)"
      ],
      "metadata": {
        "id": "Il_IIHBNfVsy"
      },
      "execution_count": null,
      "outputs": []
    },
    {
      "cell_type": "markdown",
      "source": [
        "Subsetting for Recession of 1990"
      ],
      "metadata": {
        "id": "_QiXwrS6f9kX"
      }
    },
    {
      "cell_type": "code",
      "source": [
        "qRecession1990 = gdpDf[\"1990-07-01\": \"1991-10-01\"]\n",
        "qRecession1990['Elapsed Time'] = interval\n",
        "print(qRecession1990)"
      ],
      "metadata": {
        "id": "koLoBn1Ygh50"
      },
      "execution_count": null,
      "outputs": []
    },
    {
      "cell_type": "markdown",
      "source": [
        "Create Periods "
      ],
      "metadata": {
        "id": "L68aE3kUg8FN"
      }
    },
    {
      "cell_type": "code",
      "source": [
        "dates4 = qRecession1990['Date']\n",
        "dates4.to_period('D')\n",
        "dates4 = dates4 - dates4[0]\n",
        "print(dates4)"
      ],
      "metadata": {
        "id": "bBW8JkAjg-T_"
      },
      "execution_count": null,
      "outputs": []
    },
    {
      "cell_type": "markdown",
      "source": [
        "Place Periods into dataframe"
      ],
      "metadata": {
        "id": "iVYrYCWthngc"
      }
    },
    {
      "cell_type": "code",
      "source": [
        "qRecession1990.loc[:,\"Elapsed Days\"] = dates4\n",
        "print(qRecession1990)"
      ],
      "metadata": {
        "id": "XV2MQ52rhpRu"
      },
      "execution_count": null,
      "outputs": []
    },
    {
      "cell_type": "markdown",
      "source": [
        "Set Periods as Index"
      ],
      "metadata": {
        "id": "JlU0A8cjh8TG"
      }
    },
    {
      "cell_type": "code",
      "source": [
        "qRecession1990.index = qRecession1990['Elapsed Days']\n",
        "print(qRecession1990)"
      ],
      "metadata": {
        "id": "1a-6ZW0Fh9h6"
      },
      "execution_count": null,
      "outputs": []
    },
    {
      "cell_type": "markdown",
      "source": [
        "Naming the recession"
      ],
      "metadata": {
        "id": "JhcPXeU_iKXJ"
      }
    },
    {
      "cell_type": "code",
      "source": [
        "qRecession1990.loc[:,\"Recession\"] = \"Recession of 1990\"\n",
        "print(qRecession1990)"
      ],
      "metadata": {
        "id": "4rG1-X08iMJJ"
      },
      "execution_count": null,
      "outputs": []
    },
    {
      "cell_type": "markdown",
      "source": [
        "Calculating GDP Change from Baseline"
      ],
      "metadata": {
        "id": "J2wE29btiYFE"
      }
    },
    {
      "cell_type": "code",
      "source": [
        "start4 = 6015.116\n",
        "qRecession1990['start'] = start4\n",
        "qRecession1990['Change from baseline'] = 100 * (qRecession1990.GDP/qRecession1990.start-1)\n",
        "print(qRecession1990)"
      ],
      "metadata": {
        "id": "hQ71XIYOibHS"
      },
      "execution_count": null,
      "outputs": []
    },
    {
      "cell_type": "markdown",
      "source": [
        "Creating Dataframe to hold quarter index and change from baseline"
      ],
      "metadata": {
        "id": "8DhjWsAjizpn"
      }
    },
    {
      "cell_type": "code",
      "source": [
        "Recession1990 = qRecession1990['Change from baseline']\n",
        "Recession1990['Elapsed Time'] = interval\n",
        "print(Recession1990)"
      ],
      "metadata": {
        "id": "MK7M58zQi3hJ"
      },
      "execution_count": null,
      "outputs": []
    },
    {
      "cell_type": "markdown",
      "source": [
        "Subsetting Data for Great Recession"
      ],
      "metadata": {
        "id": "6vxBByTHjqm8"
      }
    },
    {
      "cell_type": "code",
      "source": [
        "qRecession2007 = gdpDf[\"2007-12-01\":\"2009-04-01\"]\n",
        "qRecession2007['Elapsed Time'] = interval\n",
        "print(qRecession2007)"
      ],
      "metadata": {
        "id": "Pa1QLHb0jvDo"
      },
      "execution_count": null,
      "outputs": []
    },
    {
      "cell_type": "markdown",
      "source": [
        "Create Periods Based on Data"
      ],
      "metadata": {
        "id": "A-KaLq_hkWNm"
      }
    },
    {
      "cell_type": "code",
      "source": [
        "dates5 = qRecession2007['Date']\n",
        "dates5.to_period(\"D\")\n",
        "dates5 = dates5 - dates5[0]\n",
        "print(dates5)"
      ],
      "metadata": {
        "id": "BGjGHcZ3kYXP"
      },
      "execution_count": null,
      "outputs": []
    },
    {
      "cell_type": "markdown",
      "source": [
        "Place Periods into Data Frame"
      ],
      "metadata": {
        "id": "4Tvanz1Ik8ej"
      }
    },
    {
      "cell_type": "code",
      "source": [
        "qRecession2007.loc[:,\"Elapsed Days\"] = dates5\n",
        "print(qRecession2007)"
      ],
      "metadata": {
        "id": "5IxEbAo_lT72"
      },
      "execution_count": null,
      "outputs": []
    },
    {
      "cell_type": "markdown",
      "source": [
        "Set Periods as Index"
      ],
      "metadata": {
        "id": "6pDUJBdEljXV"
      }
    },
    {
      "cell_type": "code",
      "source": [
        "qRecession2007.index = qRecession2007['Elapsed Days']\n",
        "print(qRecession2007)"
      ],
      "metadata": {
        "id": "3nLWdst_lmGP"
      },
      "execution_count": null,
      "outputs": []
    },
    {
      "cell_type": "markdown",
      "source": [
        "Name the Recession"
      ],
      "metadata": {
        "id": "fqDVtRomlyxR"
      }
    },
    {
      "cell_type": "code",
      "source": [
        "qRecession2007.loc[:,\"Recession\"] = \"Recession 2007\"\n",
        "print(qRecession2007)"
      ],
      "metadata": {
        "id": "ymInEOxhl0ra"
      },
      "execution_count": null,
      "outputs": []
    },
    {
      "cell_type": "markdown",
      "source": [
        "Calculate GDP Change From Baseline"
      ],
      "metadata": {
        "id": "Umr6U0mLl_Fb"
      }
    },
    {
      "cell_type": "code",
      "source": [
        "start5 = 14706.538\n",
        "qRecession2007['start'] = start5\n",
        "qRecession2007['change from baseline'] = 100 * (qRecession2007.GDP/qRecession2007.start-1)\n",
        "print(qRecession2007)"
      ],
      "metadata": {
        "id": "zik6UBSgmBLL"
      },
      "execution_count": null,
      "outputs": []
    },
    {
      "cell_type": "markdown",
      "source": [
        "Create Dataframe to hold the changes"
      ],
      "metadata": {
        "id": "EQN8blsY2xbQ"
      }
    },
    {
      "cell_type": "code",
      "source": [
        "Recession2007 = qRecession2007['change from baseline']"
      ],
      "metadata": {
        "id": "j1ZwoADX2z7g"
      },
      "execution_count": null,
      "outputs": []
    },
    {
      "cell_type": "markdown",
      "source": [
        "Subsetting for Current GDP"
      ],
      "metadata": {
        "id": "n1OVZ8FyNBq4"
      }
    },
    {
      "cell_type": "code",
      "source": [
        "qRecession2022 = gdpDf['2021-01-01' : '2022-09-01']\n",
        "qRecession2022['Elapsed Time'] = interval\n",
        "print(qRecession2022)"
      ],
      "metadata": {
        "id": "ZT6yM7osNEHc"
      },
      "execution_count": null,
      "outputs": []
    },
    {
      "cell_type": "markdown",
      "source": [
        "Create Periods Based on Data"
      ],
      "metadata": {
        "id": "MU7VIh5JNcxn"
      }
    },
    {
      "cell_type": "code",
      "source": [
        "dates6 = qRecession2022['Date']\n",
        "dates6.to_period('D')\n",
        "dates6 = dates6 - dates6[0]\n",
        "print(dates6)\n"
      ],
      "metadata": {
        "id": "4PbEghEtNhVk"
      },
      "execution_count": null,
      "outputs": []
    },
    {
      "cell_type": "markdown",
      "source": [
        "Place Periods Into Data Frame"
      ],
      "metadata": {
        "id": "vaPWiwPEN3RP"
      }
    },
    {
      "cell_type": "code",
      "source": [
        "qRecession2022.loc[:,'Elapsed Days'] = dates6\n",
        "print(qRecession2022)"
      ],
      "metadata": {
        "id": "WZc_Q-SPN5b5"
      },
      "execution_count": null,
      "outputs": []
    },
    {
      "cell_type": "markdown",
      "source": [
        "Set Periods as Index"
      ],
      "metadata": {
        "id": "RwQjjY5pOB9f"
      }
    },
    {
      "cell_type": "code",
      "source": [
        "qRecession2022.index = qRecession2022['Elapsed Days']\n",
        "print(qRecession2022)"
      ],
      "metadata": {
        "id": "6JYdPFGbOEUj"
      },
      "execution_count": null,
      "outputs": []
    },
    {
      "cell_type": "markdown",
      "source": [
        "Name the Recession"
      ],
      "metadata": {
        "id": "0PAjGZn8OK6Y"
      }
    },
    {
      "cell_type": "code",
      "source": [
        "qRecession2022.loc[:,'Recession'] = 'Current'\n",
        "print(qRecession2022)"
      ],
      "metadata": {
        "id": "_09o1_moOMh4"
      },
      "execution_count": null,
      "outputs": []
    },
    {
      "cell_type": "markdown",
      "source": [
        "Create Change From Baseline"
      ],
      "metadata": {
        "id": "4t02B44-OZkF"
      }
    },
    {
      "cell_type": "code",
      "source": [
        "start6 = 22313.850\n",
        "qRecession2022['start'] = start6\n",
        "qRecession2022['Change from baseline'] = 100 * (qRecession2022.GDP/qRecession2022.start-1)\n",
        "print(qRecession2022)"
      ],
      "metadata": {
        "id": "NwIOP8NqObtO"
      },
      "execution_count": null,
      "outputs": []
    },
    {
      "cell_type": "markdown",
      "source": [
        "Create dataframe to hold change from baseline"
      ],
      "metadata": {
        "id": "c-mUzurFO9ss"
      }
    },
    {
      "cell_type": "code",
      "source": [
        "RecessionCurrent= qRecession2022['Change from baseline']\n",
        "RecessionCurrent['Elapsed Time'] = interval\n",
        "print(RecessionCurrent)"
      ],
      "metadata": {
        "id": "zC7EykMjPBmq"
      },
      "execution_count": null,
      "outputs": []
    },
    {
      "cell_type": "code",
      "source": [
        "plt.style.use('ggplot')\n",
        "plt.rcParams[\"figure.figsize\"] = (15,8)\n",
        "\n",
        "plt.plot(qRecession1953['Elapsed Time'], qRecession1953['Change from baseline'], label = \"Recession 1953\", color = \"#F60000\", linewidth = 3)\n",
        "plt.plot(qRecession1960['Elapsed Time'], qRecession1960['Change from baseline'], label = \"Recession 1960\", color = \"#FF8C00\" , linewidth = 3)\n",
        "plt.plot(qRecession1981['Elapsed Time'], qRecession1981['Change from baseline'], label = \"Recession 1981\", color = \"#FFEE00\", linewidth = 3)\n",
        "plt.plot(qRecession1990['Elapsed Time'], qRecession1990['Change from baseline'], label = \"Recession 1990\", color = \"#4DE94C\", linewidth = 3)\n",
        "plt.plot(qRecession2007['Elapsed Time'], qRecession2007['change from baseline'], label = \"Great Recession\", color = \"#4815AA\", linewidth = 3)\n",
        "plt.plot(qRecession2022['Elapsed Time'], qRecession2022['Change from baseline'],label = \"2021-2022\", color = \"#3783FF\", linewidth = 3)\n",
        "\n",
        "plt.title(\"Change in Gross Domestic Product VS Elapsed Time in Days From Start of Recession\")\n",
        "plt.xlabel(\"Number of Days Elapsed Since Start of Recession\")\n",
        "plt.ylabel(\"GDP Percent Change From Baseline\")\n",
        "plt.axhline(y = 0, color = \"black\", linestyle = \"--\")\n",
        "plt.xlim(0)\n",
        "plt.xlim(right = 440)\n",
        "plt.legend(loc = \"upper left\")\n",
        "plt.show()"
      ],
      "metadata": {
        "id": "MUqX9gK4lj6Z"
      },
      "execution_count": null,
      "outputs": []
    },
    {
      "cell_type": "markdown",
      "source": [
        "Merging the two data frames"
      ],
      "metadata": {
        "id": "JwvJZmqbbYbb"
      }
    },
    {
      "cell_type": "code",
      "source": [
        "mergedDf = pd.merge(qRecession1953,qRecession1960, how = 'outer')\n",
        "print(mergedDf)"
      ],
      "metadata": {
        "id": "lyr1bKs7baW9"
      },
      "execution_count": null,
      "outputs": []
    },
    {
      "cell_type": "markdown",
      "source": [
        "Importing the dataset and demonstrating it can be loaded"
      ],
      "metadata": {
        "id": "wZzixc0nuvWb"
      }
    },
    {
      "cell_type": "markdown",
      "source": [
        "# Analyzing Inflation"
      ],
      "metadata": {
        "id": "iWnyBNukwKLK"
      }
    },
    {
      "cell_type": "code",
      "source": [
        "inflationdf = pd.read_csv(r\"/content/drive/MyDrive/FPCPITOTLZGUSA.csv\")\n",
        "print(inflationdf)"
      ],
      "metadata": {
        "id": "feDW4w5ruyH0"
      },
      "execution_count": null,
      "outputs": []
    }
  ]
}